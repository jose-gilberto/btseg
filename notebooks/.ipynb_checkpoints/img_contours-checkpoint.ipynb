{
 "cells": [
  {
   "cell_type": "code",
   "execution_count": 17,
   "id": "e8c3f5ab",
   "metadata": {},
   "outputs": [],
   "source": [
    "import numpy as np\n",
    "import cv2\n",
    "import matplotlib.pyplot as plt"
   ]
  },
  {
   "cell_type": "code",
   "execution_count": 18,
   "id": "b66229d3",
   "metadata": {},
   "outputs": [
    {
     "data": {
      "text/plain": [
       "<matplotlib.image.AxesImage at 0x2a01924e160>"
      ]
     },
     "execution_count": 18,
     "metadata": {},
     "output_type": "execute_result"
    },
    {
     "data": {
      "image/png": "[encoded data removed]",
      "text/plain": [
       "<Figure size 432x288 with 1 Axes>"
      ]
     },
     "metadata": {
      "needs_background": "light"
     },
     "output_type": "display_data"
    }
   ],
   "source": [
    "img = cv2.imread('../data/Outdir/75.png', 0)\n",
    "plt.imshow(img)"
   ]
  },
  {
   "cell_type": "code",
   "execution_count": 19,
   "id": "eea099ab",
   "metadata": {},
   "outputs": [
    {
     "data": {
      "text/plain": [
       "<matplotlib.image.AxesImage at 0x2a0192a1880>"
      ]
     },
     "execution_count": 19,
     "metadata": {},
     "output_type": "execute_result"
    },
    {
     "data": {
      "image/png": "[encoded data removed]",
      "text/plain": [
       "<Figure size 432x288 with 1 Axes>"
      ]
     },
     "metadata": {
      "needs_background": "light"
     },
     "output_type": "display_data"
    }
   ],
   "source": [
    "img = np.where(img > 0, 64, img)\n",
    "plt.imshow(img)"
   ]
  },
  {
   "cell_type": "code",
   "execution_count": 20,
   "id": "ebc5d6f1",
   "metadata": {},
   "outputs": [
    {
     "data": {
      "text/plain": [
       "<matplotlib.image.AxesImage at 0x2a0192f1cd0>"
      ]
     },
     "execution_count": 20,
     "metadata": {},
     "output_type": "execute_result"
    },
    {
     "data": {
      "image/png": "[encoded data removed]",
      "text/plain": [
       "<Figure size 432x288 with 1 Axes>"
      ]
     },
     "metadata": {
      "needs_background": "light"
     },
     "output_type": "display_data"
    }
   ],
   "source": [
    "img_bw = img > 63;\n",
    "img_bw = 255 * img_bw.astype('uint8')\n",
    "plt.imshow(img_bw)"
   ]
  },
  {
   "cell_type": "code",
   "execution_count": 21,
   "id": "f0168e74",
   "metadata": {},
   "outputs": [],
   "source": [
    "contours, _ = cv2.findContours(img_bw, cv2.RETR_EXTERNAL, cv2.CHAIN_APPROX_NONE)"
   ]
  },
  {
   "cell_type": "code",
   "execution_count": 22,
   "id": "1fc1cb4f",
   "metadata": {},
   "outputs": [],
   "source": [
    "out = img.copy()"
   ]
  },
  {
   "cell_type": "code",
   "execution_count": 23,
   "id": "1c4d7bcd",
   "metadata": {},
   "outputs": [
    {
     "data": {
      "text/plain": [
       "<matplotlib.image.AxesImage at 0x2a0193514c0>"
      ]
     },
     "execution_count": 23,
     "metadata": {},
     "output_type": "execute_result"
    },
    {
     "data": {
      "image/png": "[encoded data removed]",
      "text/plain": [
       "<Figure size 432x288 with 1 Axes>"
      ]
     },
     "metadata": {
      "needs_background": "light"
     },
     "output_type": "display_data"
    }
   ],
   "source": [
    "ref = np.zeros_like(img_bw)\n",
    "plt.imshow(ref)"
   ]
  },
  {
   "cell_type": "code",
   "execution_count": 24,
   "id": "99ffe887",
   "metadata": {},
   "outputs": [
    {
     "data": {
      "text/plain": [
       "<matplotlib.image.AxesImage at 0x2a0165c1eb0>"
      ]
     },
     "execution_count": 24,
     "metadata": {},
     "output_type": "execute_result"
    },
    {
     "data": {
      "image/png": "[encoded data removed]",
      "text/plain": [
       "<Figure size 432x288 with 1 Axes>"
      ]
     },
     "metadata": {
      "needs_background": "light"
     },
     "output_type": "display_data"
    }
   ],
   "source": [
    "cv2.drawContours(ref, contours, 0, 255, 1)\n",
    "plt.imshow(ref)"
   ]
  },
  {
   "cell_type": "code",
   "execution_count": 25,
   "id": "a6027e10",
   "metadata": {},
   "outputs": [
    {
     "name": "stdout",
     "output_type": "stream",
     "text": [
      "68\n",
      "128\n"
     ]
    }
   ],
   "source": [
    "# M = cv2.moments(contours[0])\n",
    "M = cv2.moments(ref)\n",
    "\n",
    "centroid_x = int(M['m10']/M['m00'])\n",
    "centroid_y = int(M['m01']/M['m00'])\n",
    "\n",
    "print(centroid_x)\n",
    "print(centroid_y)"
   ]
  },
  {
   "cell_type": "code",
   "execution_count": 26,
   "id": "4c941e64",
   "metadata": {},
   "outputs": [
    {
     "name": "stdout",
     "output_type": "stream",
     "text": [
      "155\n",
      "240\n"
     ]
    }
   ],
   "source": [
    "width = img.shape[1]\n",
    "height = img.shape[0]\n",
    "\n",
    "print(width)\n",
    "print(height)"
   ]
  },
  {
   "cell_type": "code",
   "execution_count": 27,
   "id": "a2ae20ab",
   "metadata": {},
   "outputs": [],
   "source": [
    "N = 180\n",
    "distances = []\n",
    "import math"
   ]
  },
  {
   "cell_type": "code",
   "execution_count": 28,
   "id": "38afab99",
   "metadata": {},
   "outputs": [
    {
     "name": "stdout",
     "output_type": "stream",
     "text": [
      "[125 126 127 128 128 129 129 130 131]\n",
      "[96 96 96 94 95 92 93 91 90]\n",
      "[123 124 125 126 127 128 128 129 129 130]\n",
      "[96 96 96 96 96 94 95 92 93 91]\n",
      "[122 122 122 123 124 125 126 127 128 128]\n",
      "[94 95 96 96 96 96 96 96 94 95]\n",
      "[121 122 122 122 123 124 125 126]\n",
      "[93 94 95 96 96 96 96 96]\n",
      "[119 120 121 122 122 122 123 124 125]\n",
      "[94 93 93 94 95 96 96 96 96]\n",
      "[117 118 119 120 121 122 122 122 123]\n",
      "[95 95 94 93 93 94 95 96 96]\n",
      "[116 117 118 119 120 121 122 122 122]\n",
      "[95 95 95 94 93 93 94 95 96]\n",
      "[115 116 117 118 119 120 121]\n",
      "[94 95 95 95 94 93 93]\n",
      "[113 114 115 116 117 118 119 120]\n",
      "[93 93 94 95 95 95 94 93]\n",
      "[112 113 114 115 116 117 118]\n",
      "[93 93 93 94 95 95 95]\n",
      "[111 111 112 113 114 115 116]\n",
      "[92 93 93 93 93 94 95]\n",
      "[110 110 111 111 112 113 114 115]\n",
      "[90 91 92 93 93 93 93 94]\n",
      "[110 110 111 111 112 113 114]\n",
      "[90 91 92 93 93 93 93]\n",
      "[109 110 110 111 111 112 113]\n",
      "[89 90 91 92 93 93 93]\n",
      "[108 108 109 110 110 111 111]\n",
      "[87 88 89 90 91 92 93]\n",
      "[108 108 109 110 110 111]\n",
      "[87 88 89 90 91 92]\n",
      "[106 106 107 108 108 109 110 110]\n",
      "[86 87 86 87 88 89 90 91]\n",
      "[106 106 107 108 108 109]\n",
      "[86 87 86 87 88 89]\n",
      "[104 105 106 106 107 108 108 109]\n",
      "[85 85 86 87 86 87 88 89]\n",
      "[102 103 104 105 106 106 107 108 108]\n",
      "[85 85 85 85 86 87 86 87 88]\n",
      "[101 102 103 104 105 106 106 107 108]\n",
      "[85 85 85 85 85 86 87 86 87]\n",
      "[ 99 100 101 102 103 104 105 106 106 107]\n",
      "[85 85 85 85 85 85 85 86 87 86]\n",
      "[ 97  98  99 100 101 102 103 104 105 106 106 107]\n",
      "[85 85 85 85 85 85 85 85 85 86 87 86]\n",
      "[ 96  97  98  99 100 101 102 103 104 105]\n",
      "[84 85 85 85 85 85 85 85 85 85]\n",
      "[ 95  96  97  98  99 100 101 102 103 104 105]\n",
      "[83 84 85 85 85 85 85 85 85 85 85]\n",
      "[ 95  96  97  98  99 100 101 102 103]\n",
      "[83 84 85 85 85 85 85 85 85]\n",
      "[ 94  95  96  97  98  99 100 101]\n",
      "[82 83 84 85 85 85 85 85]\n",
      "[94 94 95 96 97 98 99]\n",
      "[81 82 83 84 85 85 85]\n",
      "[92 93 94 94 95 96 97]\n",
      "[80 80 81 82 83 84 85]\n",
      "[91 92 93 94 94 95 96]\n",
      "[80 80 80 81 82 83 84]\n",
      "[89 90 91 92 93 94 94 95]\n",
      "[79 79 80 80 80 81 82 83]\n",
      "[87 88 89 90 91 92 93 94 94]\n",
      "[79 79 79 79 80 80 80 81 82]\n",
      "[86 87 88 89 90 91 92 93 94 94]\n",
      "[78 79 79 79 79 80 80 80 81 82]\n",
      "[86 86 87 88 89 90 91 92 93 94]\n",
      "[77 78 79 79 79 79 80 80 80 81]\n",
      "[86 86 86 87 88 89 90 91 92 93]\n",
      "[76 77 78 79 79 79 79 80 80 80]\n",
      "[86 86 86 86 87 88 89 90 91 92]\n",
      "[75 76 77 78 79 79 79 79 80 80]\n",
      "[86 86 86 86 86 87 88 89 90]\n",
      "[74 75 76 77 78 79 79 79 79]\n",
      "[86 86 86 86 86 86 87]\n",
      "[73 74 75 76 77 78 79]\n",
      "[86 86 86 86 86 86 86]\n",
      "[72 73 74 75 76 77 78]\n",
      "[86 86 86 86 86 86 86]\n",
      "[71 72 73 74 75 76 77]\n",
      "[86 86 86 86 86 86 86]\n",
      "[70 71 72 73 74 75 76]\n",
      "[86 86 86 86 86 86 86 89]\n",
      "[69 70 71 72 73 74 75 68]\n",
      "[86 86 86 86 86 86 87 88 89]\n",
      "[69 70 71 72 73 74 68 68 68]\n",
      "[86 86 86 86 86 87 88 89 90]\n",
      "[69 70 71 72 73 68 68 68 67]\n",
      "[86 86 86 86 87 88 89 90 91]\n",
      "[69 70 71 72 68 68 68 67 66]\n",
      "[86 86 86 87 88 89 90 91 91 92 94]\n",
      "[69 70 71 68 68 68 67 65 66 65 65]\n",
      "[86 86 87 88 89 90 91 91 91 92 93 94 95]\n",
      "[69 70 68 68 68 67 64 65 66 65 64 65 64]\n",
      "[86 87 88 89 90 91 91 91 92 93 94 95 95]\n",
      "[69 68 68 68 67 64 65 66 65 64 65 63 64]\n",
      "[87 88 89 90 91 91 91 92 93 94 95 95]\n",
      "[68 68 68 67 64 65 66 65 64 65 63 64]\n",
      "[90 91 91 91 92 93 94 95 95 95]\n",
      "[67 64 65 66 65 64 65 62 63 64]\n",
      "[90 91 91 91 92 93 94 94 95 95 95]\n",
      "[67 64 65 66 65 64 61 65 62 63 64]\n",
      "[91 91 91 92 93 94 94 94 95 95 95]\n",
      "[64 65 66 65 64 60 61 65 62 63 64]\n",
      "[91 91 92 93 94 94 94 94 95 95 95]\n",
      "[64 65 65 64 59 60 61 65 62 63 64]\n",
      "[91 93 93 94 94 94 94 95 95 95]\n",
      "[64 58 64 59 60 61 65 62 63 64]\n",
      "[92 93 93 94 94 94 95 95 95]\n",
      "[57 58 64 59 60 61 62 63 64]\n",
      "[91 92 93 94 94 94 95 95]\n",
      "[56 57 58 59 60 61 62 63]\n",
      "[91 91 92 93 94 94 94 95]\n",
      "[55 56 57 58 59 60 61 62]\n",
      "[90 91 91 92 93 94 94 94 95]\n",
      "[54 55 56 57 58 59 60 61 62]\n",
      "[90 90 91 91 92 93 94 94]\n",
      "[53 54 55 56 57 58 59 60]\n",
      "[90 90 90 91 91 92 93 94 94]\n",
      "[52 53 54 55 56 57 58 59 60]\n",
      "[90 90 90 90 91 91 92 93 94]\n",
      "[51 52 53 54 55 56 57 58 59]\n",
      "[90 90 90 90 90 90 91 91 92]\n",
      "[49 50 51 52 53 54 55 56 57]\n",
      "[90 90 90 90 90 90 90 91]\n",
      "[48 49 50 51 52 53 54 55]\n",
      "[90 90 90 90 90 90 91]\n",
      "[48 49 50 51 52 53 47]\n",
      "[90 90 90 90 90 91 91]\n",
      "[48 49 50 51 52 46 47]\n",
      "[90 90 90 90 91 91 91 92 93]\n",
      "[48 49 50 51 45 46 47 46 45]\n",
      "[90 90 90 91 91 91 92 93 93]\n",
      "[48 49 50 45 46 47 46 44 45]\n",
      "[90 91 91 91 92 93 93 94]\n",
      "[48 45 46 47 46 44 45 44]\n",
      "[91 91 91 92 93 93 94 95 96]\n",
      "[45 46 47 46 44 45 44 43 43]\n",
      "[91 92 93 93 94 95 96 97 98]\n",
      "[45 46 44 45 44 43 43 42 42]\n",
      "[93 93 94 95 96 97 98]\n",
      "[44 45 44 43 43 42 42]\n",
      "[94 95 96 97 98 99]\n",
      "[44 43 43 42 42 41]\n",
      "[ 95  96  97  98  99 100 100]\n",
      "[43 43 42 42 41 39 40]\n",
      "[ 97  98  99 100 100 101]\n",
      "[42 42 41 39 40 38]\n",
      "[ 98  99 100 100 101 101]\n",
      "[42 41 39 40 37 38]\n",
      "[100 100 101 101 102 103]\n",
      "[39 40 37 38 36 36]\n",
      "[100 101 101 102 103 104]\n",
      "[39 37 38 36 36 35]\n",
      "[101 101 102 103 104 105 105]\n",
      "[37 38 36 36 35 33 34]\n",
      "[102 103 104 105 105 106 107]\n",
      "[36 36 35 33 34 33 33]\n",
      "[104 105 105 106 107 108 109 110 110 110 111 112 113 114]\n",
      "[35 33 34 33 33 33 34 33 34 35 36 37 38 39]\n",
      "[105 105 106 107 108 109 110 110 110 111 112 113 113 114 115]\n",
      "[33 34 33 33 33 34 33 34 35 36 37 37 38 39 39]\n",
      "[107 108 109 110 110 110 111 112 113 113 114 115 116 117]\n",
      "[33 33 34 33 34 35 36 37 37 38 39 39 39 39]\n",
      "[109 110 110 110 111 112 113 113 114 115 116 117 118]\n",
      "[34 33 34 35 36 37 37 38 39 39 39 39 39]\n",
      "[113 113 114 115 116 117 118 119 119 120 120 120 121]\n",
      "[37 38 39 39 39 39 39 37 38 39 40 41 42]\n",
      "[115 116 117 118 119 119 120 120 120 120 121 122 123]\n",
      "[39 39 39 39 37 38 38 39 40 41 42 42 42]\n",
      "[117 118 119 119 120 120 120 120 121 122 123 124]\n",
      "[39 39 37 38 38 39 40 41 42 42 42 42]\n",
      "[118 119 119 120 120 120 120 121 122 123 124 125 126]\n",
      "[39 37 38 38 39 40 41 42 42 42 42 43 43]\n",
      "[120 120 120 120 121 122 123 124 125 126 127]\n",
      "[38 39 40 41 42 42 42 42 43 43 43]\n",
      "[122 123 124 125 126 127 128]\n",
      "[42 42 42 43 43 43 44]\n",
      "[123 124 125 126 127 128 129 130]\n",
      "[42 42 43 43 43 44 44 44]\n",
      "[125 126 127 128 129 130 131 131 131 131]\n",
      "[43 43 43 44 44 44 44 45 46 47]\n",
      "[126 127 128 129 130 131 131 131 131 132]\n",
      "[43 43 44 44 44 44 45 46 47 48]\n",
      "[128 129 130 131 131 131 131 132 133]\n",
      "[44 44 44 44 45 46 47 48 48]\n",
      "[129 130 131 131 131 131 132 133 134]\n",
      "[44 44 44 45 46 47 48 48 49]\n",
      "[130 131 131 131 131 132 133 134 135]\n",
      "[44 44 45 46 47 48 48 49 49]\n",
      "[131 131 131 131 132 133 134 135 136]\n",
      "[44 45 46 47 48 48 49 49 49]\n",
      "[132 133 134 135 136 137]\n",
      "[48 48 49 49 49 49]\n",
      "[133 134 135 136 137 138 139]\n",
      "[48 49 49 49 49 49 49]\n",
      "[134 135 136 137 138 139 140]\n",
      "[49 49 49 49 49 49 49]\n",
      "[134 135 136 137 138 139 140 141]\n",
      "[49 49 49 49 49 49 49 49]\n",
      "[135 136 137 138 139 140 141 142]\n",
      "[49 49 49 49 49 49 49 49]\n",
      "[136 137 138 139 140 141 142 143]\n",
      "[49 49 49 49 49 49 49 50]\n",
      "[137 138 139 140 141 142 143 143 143]\n",
      "[49 49 49 49 49 49 50 51 52]\n",
      "[139 140 141 142 143 143 143 143]\n",
      "[49 49 49 49 50 51 52 53]\n",
      "[140 141 142 142 143 143 143 143 143 143]\n",
      "[49 49 49 56 50 51 52 53 54 55]\n",
      "[141 142 142 142 143 143 143 143 143 143]\n",
      "[49 49 56 57 50 51 52 53 54 55]\n",
      "[142 142 142 142 143 143 143 143 143 143]\n",
      "[49 56 57 58 50 51 52 53 54 55]\n",
      "[142 142 142 143 143 143 143 143 143 151]\n",
      "[56 57 58 50 51 52 53 54 55 50]\n",
      "[142 142 142 143 143 143 143 143 143 151 151 151 152]\n",
      "[56 57 58 51 52 53 54 55 59 50 51 52 51]\n",
      "[142 142 142 143 143 143 143 143 144 150 151 151 151 151 152 152]\n",
      "[56 57 58 52 53 54 55 59 59 54 50 51 52 53 51 52]\n",
      "[142 142 142 143 143 143 143 144 145 150 150 151 151 151 151 152 152 153]\n",
      "[56 57 58 53 54 55 59 59 59 54 55 50 51 52 53 51 52 53]\n",
      "[142 142 142 143 143 143 143 144 145 146 150 150 150 151 151 151 151 152\n",
      " 152 153 154]\n",
      "[56 57 58 53 54 55 59 59 59 59 54 55 56 50 51 52 53 51 52 53 53]\n",
      "[142 142 142 143 143 143 144 145 146 147 150 150 150 150 151 151 151 151\n",
      " 152 152 153 154 155 156]\n",
      "[56 57 58 54 55 59 59 59 59 59 54 55 56 57 50 51 52 53 51 52 53 53 53 53]\n",
      "[142 142 142 143 143 144 145 146 147 148 149 150 150 150 150 150 151 151\n",
      " 151 151 152 152 153 154 155 156 157]\n",
      "[56 57 58 55 59 59 59 59 59 59 59 54 55 56 57 58 50 51 52 53 51 52 53 53\n",
      " 53 53 54]\n",
      "[142 142 142 143 144 145 146 147 148 149 150 150 150 150 150 151 151 151\n",
      " 152 152 153 154 155 156 157 158]\n",
      "[56 57 58 59 59 59 59 59 59 59 54 55 56 57 58 51 52 53 51 52 53 53 53 53\n",
      " 54 54]\n",
      "[142 142 143 144 145 146 147 148 149 150 150 150 150 150 151 151 152 153\n",
      " 154 155 156 157 158 158]\n",
      "[57 58 59 59 59 59 59 59 59 54 55 56 57 58 52 53 52 53 53 53 53 54 54 55]\n",
      "[142 143 144 145 146 147 148 149 150 150 150 150 150 151 153 154 155 156\n",
      " 157 158 158 158]\n",
      "[58 59 59 59 59 59 59 59 54 55 56 57 58 53 53 53 53 53 54 54 55 56]\n",
      "[142 143 144 145 146 147 148 149 150 150 150 150 150 153 154 155 156 157\n",
      " 158 158 158 158]\n",
      "[58 59 59 59 59 59 59 59 54 55 56 57 58 53 53 53 53 54 54 55 56 57]\n",
      "[143 144 145 146 147 148 149 150 150 150 150 155 156 157 158 158 158 158\n",
      " 158]\n",
      "[59 59 59 59 59 59 59 55 56 57 58 53 53 54 54 55 56 57 58]\n",
      "[143 144 145 146 147 148 149 150 150 150 157 158 158 158 158 158 158]\n",
      "[59 59 59 59 59 59 59 56 57 58 54 54 55 56 57 58 59]\n",
      "[143 144 145 146 147 148 149 150 150 157 158 158 158 158 158 158 158]\n",
      "[59 59 59 59 59 59 59 57 58 54 54 55 56 57 58 59 60]\n",
      "[144 145 146 147 148 149 150 150 158 158 158 158 158 158 159]\n",
      "[59 59 59 59 59 59 57 58 55 56 57 58 59 60 61]\n",
      "[145 146 147 148 149 150 158 158 158 158 158 158 159]\n",
      "[59 59 59 59 59 58 55 56 57 58 59 60 61]\n",
      "[147 148 149 150 158 158 158 158 158 159 159 162]\n",
      "[59 59 59 58 56 57 58 59 60 61 62 61]\n",
      "[149 158 158 158 158 159 159 160 162 162 163]\n",
      "[59 57 58 59 60 61 62 63 61 62 62]\n",
      "[158 158 158 159 159 160 162 162 162 163 164]\n",
      "[58 59 60 61 62 63 61 62 63 62 63]\n",
      "[158 158 159 159 160 161 162 162 162 163 164 164]\n",
      "[59 60 61 62 63 64 61 62 63 62 63 64]\n",
      "[158 158 159 159 160 161 162 162 162 163 164 164]\n",
      "[59 60 61 62 63 64 61 62 63 62 63 64]\n",
      "[158 159 159 160 161 162 162 162 163 164 164 165]\n",
      "[60 61 62 63 64 61 62 63 62 63 64 65]\n",
      "[159 159 160 161 162 162 162 163 164 164 165 165]\n",
      "[61 62 63 64 61 62 63 62 63 64 65 66]\n",
      "[159 159 160 161 162 162 162 163 164 164 165 165 166]\n",
      "[61 62 63 64 61 62 63 62 63 64 65 66 67]\n",
      "[159 160 161 162 162 163 164 164 165 165 165 166]\n",
      "[62 63 64 62 63 62 63 64 65 66 68 67]\n",
      "[160 161 162 164 164 165 165 165 166]\n",
      "[63 64 63 63 64 65 66 68 67]\n",
      "[161 162 164 164 165 165 165 165 166]\n",
      "[64 63 63 64 65 66 68 69 67]\n",
      "[161 164 165 165 165 165 165 166]\n",
      "[64 64 65 66 68 69 70 67]\n",
      "[165 165 165 165 165 165 166]\n",
      "[65 66 68 69 70 71 67]\n",
      "[165 165 165 165 165 165 166]\n",
      "[66 68 69 70 71 72 67]\n",
      "[164 165 165 165 165 165 166]\n",
      "[73 68 69 70 71 72 67]\n",
      "[164 165 165 165 165 165]\n",
      "[73 68 69 70 71 72]\n",
      "[164 164 165 165 165 165 165]\n",
      "[73 74 68 69 70 71 72]\n",
      "[164 164 164 165 165 165 165]\n",
      "[73 74 75 69 70 71 72]\n",
      "[164 164 164 164 165 165 165]\n",
      "[73 74 75 76 70 71 72]\n",
      "[164 164 164 164 164 165 165]\n",
      "[73 74 75 76 77 71 72]\n",
      "[164 164 164 164 164 164 165]\n",
      "[73 74 75 76 77 78 72]\n",
      "[164 164 164 164 164 164 165 165]\n",
      "[73 74 75 76 77 78 72 79]\n",
      "[164 164 164 164 164 164 164 165]\n",
      "[73 74 75 76 77 78 80 79]\n",
      "[164 164 164 164 164 164 165]\n",
      "[74 75 76 77 78 80 79]\n",
      "[163 164 164 164 164 164 165]\n",
      "[81 75 76 77 78 80 79]\n",
      "[163 163 164 164 164 164 165]\n",
      "[81 82 76 77 78 80 79]\n",
      "[162 163 163 164 164 164 165]\n",
      "[83 81 82 77 78 80 79]\n",
      "[159 160 161 162 163 163 164 164 165]\n",
      "[83 83 83 83 81 82 78 80 79]\n",
      "[159 160 161 162 163 163 164]\n",
      "[83 83 83 83 81 82 80]\n",
      "[157 158 159 160 161 162 163 163 164]\n",
      "[84 84 83 83 83 83 81 82 80]\n",
      "[157 158 159 160 161 162 163 163]\n",
      "[84 84 83 83 83 83 81 82]\n",
      "[156 157 158 159 160 161 162 163]\n",
      "[85 84 84 83 83 83 83 82]\n",
      "[156 156 157 158 159 160 161 162 162]\n",
      "[85 86 84 84 83 83 83 83 90]\n",
      "[155 156 156 157 157 158 158 159 159 160 160 161 161 162 162 163]\n",
      "[87 85 86 84 89 84 89 83 89 83 90 83 90 90 91 92]\n",
      "[155 155 156 156 156 157 157 158 158 159 159 160 161 162 162 163 163 163]\n",
      "[87 88 85 86 89 84 89 84 89 83 89 90 90 90 91 92 93 94]\n",
      "[155 155 156 156 156 157 157 158 158 159 160 161 162 162 163 163 163 163]\n",
      "[87 88 85 86 89 84 89 84 89 89 90 90 90 91 92 93 94 95]\n",
      "[155 155 156 156 156 157 158 159 160 161 162 162 163 163 163 163 163 163]\n",
      "[87 88 85 86 89 89 89 89 90 90 90 91 92 93 94 95 96 97]\n",
      "[155 155 156 156 157 158 159 160 161 162 162 163 163 163 163 163 163 163]\n",
      "[87 88 86 89 89 89 89 90 90 90 91 92 93 94 95 96 97 98]\n",
      "[155 155 156 157 158 162 163 163 163 163 163 163]\n",
      "[87 88 89 89 89 99 93 94 95 96 97 98]\n",
      "[155 156 159 161 162 163 163 163 163]\n",
      "[ 88  89 100 100  99  95  96  97  98]\n",
      "[157 158 159 160 161 162 163 163]\n",
      "[100 100 100 101 100  99  97  98]\n",
      "[151 152 153 156 157 158 159 160 161 162]\n",
      "[ 96  97  98 101 100 100 100 101 100  99]\n",
      "[147 148 149 150 151 152 153 153 153 154 155 156 157 158 159 160 161]\n",
      "[ 94  95  95  96  96  97  98  99 100 101 101 101 100 100 100 101 100]\n",
      "[145 146 147 148 149 150 151 152 153 153 153 154 155 156 157 158]\n",
      "[ 94  94  94  95  95  96  96  97  98  99 100 101 101 101 100 100]\n",
      "[144 145 146 147 148 149 150 151 152 153 153 153 154 155 156]\n",
      "[ 93  94  94  94  95  95  96  96  97  98  99 100 101 101 101]\n",
      "[142 143 144 145 146 147 148 149 150 151 152 153 153 154 155]\n",
      "[ 94  94  93  94  94  94  95  95  96  96  97  99 100 101 101]\n",
      "[139 140 141 142 143 144 145 146 147 148 149]\n",
      "[92 94 94 94 94 93 94 94 94 95 95]\n",
      "[137 138 139 139 139 140 141 142 143 144 145 146]\n",
      "[91 91 92 93 94 94 94 94 94 93 94 94]\n",
      "[136 137 138 139 139 139 140 141 142 143 144 145]\n",
      "[90 91 91 92 93 94 94 94 94 94 93 94]\n",
      "[135 136 137 138 139 139 139 140 141 142 143]\n",
      "[90 90 91 91 92 93 94 94 94 94 94]\n",
      "[133 134 135 136 137 138 139 139 139 140 141]\n",
      "[90 90 90 90 91 91 92 93 94 94 94]\n",
      "[132 133 134 135 136 137 138 139 139 139 140]\n",
      "[90 90 90 90 90 91 91 92 93 94 94]\n",
      "[131 132 133 134 135 136 137]\n",
      "[90 90 90 90 90 90 91]\n",
      "[130 131 132 133 134 135 136]\n",
      "[91 90 90 90 90 90 90]\n",
      "[129 129 130 131 132 133 134 135]\n",
      "[92 93 91 90 90 90 90 90]\n",
      "[128 128 129 129 130 131 132 133]\n",
      "[94 95 92 93 91 90 90 90]\n",
      "[126 127 128 128 129 129 130 131 132]\n",
      "[96 96 94 95 92 93 91 90 90]\n"
     ]
    }
   ],
   "source": [
    "for i in np.arange(0, N, 1):\n",
    "    tmp = np.zeros_like(img_bw)\n",
    "\n",
    "    theta = i*(360/N)\n",
    "    theta *= np.pi/180.0\n",
    "\n",
    "    cv2.line(tmp, (centroid_x, centroid_y),\n",
    "           (int(centroid_x+np.cos(theta) * width),\n",
    "            int(centroid_y-np.sin(theta) * height)), 255, 5)\n",
    "\n",
    "    (row, col) = np.nonzero(np.logical_and(tmp, ref))\n",
    "\n",
    "    print(row)\n",
    "    print(col)\n",
    "\n",
    "    cv2.line(out, (centroid_x, centroid_y), (col[0], row[0]), 0, 1)\n",
    "    \n",
    "    distance = math.sqrt(\n",
    "        ((col[0] - centroid_x)**2) + ((row[0] - centroid_y)**2)\n",
    "    )\n",
    "    distances.append(distance)\n"
   ]
  },
  {
   "cell_type": "code",
   "execution_count": 29,
   "id": "2a69a31c",
   "metadata": {},
   "outputs": [
    {
     "data": {
      "text/plain": [
       "[28.160255680657446,\n",
       " 28.442925306655784,\n",
       " 26.68332812825267,\n",
       " 25.96150997149434,\n",
       " 27.51363298439521,\n",
       " 29.154759474226502,\n",
       " 29.546573405388315,\n",
       " 29.068883707497267,\n",
       " 29.154759474226502,\n",
       " 29.68164415931166,\n",
       " 29.410882339705484,\n",
       " 28.42534080710379,\n",
       " 28.42534080710379,\n",
       " 28.319604517012593,\n",
       " 27.586228448267445,\n",
       " 27.586228448267445,\n",
       " 28.42534080710379,\n",
       " 28.42534080710379,\n",
       " 29.410882339705484,\n",
       " 31.064449134018133,\n",
       " 31.906112267087632,\n",
       " 33.61547262794322,\n",
       " 35.35533905932738,\n",
       " 35.77708763999664,\n",
       " 36.24913792078372,\n",
       " 36.24913792078372,\n",
       " 36.76955262170047,\n",
       " 36.40054944640259,\n",
       " 37.94733192202055,\n",
       " 38.897300677553446,\n",
       " 40.52159917870962,\n",
       " 42.44997055358225,\n",
       " 43.174066289845804,\n",
       " 42.95346318982906,\n",
       " 42.7551166528639,\n",
       " 42.579337712087536,\n",
       " 42.42640687119285,\n",
       " 42.2965719651132,\n",
       " 42.190046219457976,\n",
       " 42.1070065428546,\n",
       " 42.04759208325728,\n",
       " 42.01190307520001,\n",
       " 42.01190307520001,\n",
       " 42.01190307520001,\n",
       " 42.01190307520001,\n",
       " 42.01190307520001,\n",
       " 42.01190307520001,\n",
       " 42.01190307520001,\n",
       " 41.0,\n",
       " 38.01315561749642,\n",
       " 38.01315561749642,\n",
       " 37.21558813185679,\n",
       " 37.21558813185679,\n",
       " 37.21558813185679,\n",
       " 37.64306044943742,\n",
       " 38.897300677553446,\n",
       " 39.21734310225516,\n",
       " 40.496913462633174,\n",
       " 40.85339643163099,\n",
       " 41.23105625617661,\n",
       " 41.6293165929973,\n",
       " 42.485291572496,\n",
       " 42.941821107167776,\n",
       " 42.941821107167776,\n",
       " 42.941821107167776,\n",
       " 42.941821107167776,\n",
       " 42.941821107167776,\n",
       " 42.941821107167776,\n",
       " 43.56604182158393,\n",
       " 43.56604182158393,\n",
       " 42.43819034784589,\n",
       " 41.617304093369626,\n",
       " 41.400483088968905,\n",
       " 40.45985664828782,\n",
       " 39.698866482558415,\n",
       " 40.311288741492746,\n",
       " 40.311288741492746,\n",
       " 41.10960958218893,\n",
       " 41.23105625617661,\n",
       " 40.80441152620633,\n",
       " 41.88078318274385,\n",
       " 40.8166632639171,\n",
       " 38.948684188300895,\n",
       " 34.438350715445125,\n",
       " 31.78049716414141,\n",
       " 31.016124838541646,\n",
       " 30.675723300355934,\n",
       " 31.04834939252005,\n",
       " 26.68332812825267,\n",
       " 26.476404589747453,\n",
       " 25.179356624028344,\n",
       " 25.079872407968907,\n",
       " 24.0,\n",
       " 24.020824298928627,\n",
       " 24.08318915758459,\n",
       " 24.186773244895647,\n",
       " 20.396078054371138,\n",
       " 20.615528128088304,\n",
       " 19.924858845171276,\n",
       " 19.924858845171276,\n",
       " 20.248456731316587,\n",
       " 20.615528128088304,\n",
       " 21.02379604162864,\n",
       " 21.95449840010015,\n",
       " 22.47220505424423,\n",
       " 23.021728866442675,\n",
       " 23.600847442411894,\n",
       " 18.439088914585774,\n",
       " 18.439088914585774,\n",
       " 18.439088914585774,\n",
       " 18.439088914585774,\n",
       " 18.439088914585774,\n",
       " 18.439088914585774,\n",
       " 18.439088914585774,\n",
       " 18.439088914585774,\n",
       " 17.804493814764857,\n",
       " 17.204650534085253,\n",
       " 17.204650534085253,\n",
       " 17.4928556845359,\n",
       " 17.4928556845359,\n",
       " 17.4928556845359,\n",
       " 18.35755975068582,\n",
       " 19.235384061671343,\n",
       " 21.02379604162864,\n",
       " 22.847319317591726,\n",
       " 31.622776601683793,\n",
       " 31.32091952673165,\n",
       " 31.32091952673165,\n",
       " 31.04834939252005,\n",
       " 31.78049716414141,\n",
       " 31.78049716414141,\n",
       " 31.575306807693888,\n",
       " 32.38826948140329,\n",
       " 33.24154027718932,\n",
       " 33.24154027718932,\n",
       " 37.12142238654117,\n",
       " 37.05401462729781,\n",
       " 36.345563690772494,\n",
       " 36.345563690772494,\n",
       " 36.345563690772494,\n",
       " 36.345563690772494,\n",
       " 36.345563690772494,\n",
       " 36.345563690772494,\n",
       " 36.345563690772494,\n",
       " 36.345563690772494,\n",
       " 36.345563690772494,\n",
       " 36.49657518178932,\n",
       " 37.33630940518894,\n",
       " 37.33630940518894,\n",
       " 37.16180835212409,\n",
       " 34.438350715445125,\n",
       " 34.438350715445125,\n",
       " 33.12099032335839,\n",
       " 33.12099032335839,\n",
       " 32.7566787083184,\n",
       " 32.7566787083184,\n",
       " 33.015148038438355,\n",
       " 33.015148038438355,\n",
       " 33.015148038438355,\n",
       " 33.015148038438355,\n",
       " 33.015148038438355,\n",
       " 33.015148038438355,\n",
       " 33.60059523282288,\n",
       " 43.18564576337837,\n",
       " 36.235341863986875,\n",
       " 32.202484376209235,\n",
       " 31.064449134018133,\n",
       " 29.68164415931166,\n",
       " 29.5296461204668,\n",
       " 26.40075756488817,\n",
       " 24.698178070456937,\n",
       " 23.40939982143925,\n",
       " 23.08679276123039,\n",
       " 22.561028345356956,\n",
       " 22.360679774997898,\n",
       " 22.20360331117452,\n",
       " 23.08679276123039,\n",
       " 24.020824298928627,\n",
       " 26.0,\n",
       " 28.071337695236398]"
      ]
     },
     "execution_count": 29,
     "metadata": {},
     "output_type": "execute_result"
    }
   ],
   "source": [
    "distances"
   ]
  },
  {
   "cell_type": "code",
   "execution_count": 30,
   "id": "f7077e33",
   "metadata": {},
   "outputs": [
    {
     "data": {
      "text/plain": [
       "180"
      ]
     },
     "execution_count": 30,
     "metadata": {},
     "output_type": "execute_result"
    }
   ],
   "source": [
    "len(distances)"
   ]
  },
  {
   "cell_type": "code",
   "execution_count": 31,
   "id": "2ce37fb1",
   "metadata": {},
   "outputs": [
    {
     "data": {
      "text/plain": [
       "<matplotlib.image.AxesImage at 0x2a019273700>"
      ]
     },
     "execution_count": 31,
     "metadata": {},
     "output_type": "execute_result"
    },
    {
     "data": {
      "image/png": "[encoded data removed]",
      "text/plain": [
       "<Figure size 432x288 with 1 Axes>"
      ]
     },
     "metadata": {
      "needs_background": "light"
     },
     "output_type": "display_data"
    }
   ],
   "source": [
    "# Show the image\n",
    "# Step #7\n",
    "plt.imshow(out)\n",
    "# cv2.imshow('Output', out)\n",
    "# cv2.waitKey(0)\n",
    "# cv2.destroyAllWindows()"
   ]
  },
  {
   "cell_type": "code",
   "execution_count": 32,
   "id": "818b8462",
   "metadata": {},
   "outputs": [
    {
     "data": {
      "text/plain": [
       "[<matplotlib.lines.Line2D at 0x2a01943c880>]"
      ]
     },
     "execution_count": 32,
     "metadata": {},
     "output_type": "execute_result"
    },
    {
     "data": {
      "image/png": "[encoded data removed]",
      "text/plain": [
       "<Figure size 432x288 with 1 Axes>"
      ]
     },
     "metadata": {
      "needs_background": "light"
     },
     "output_type": "display_data"
    }
   ],
   "source": [
    "plt.plot(np.arange(0, N, 1), distances)"
   ]
  }
 ],
 "metadata": {
  "kernelspec": {
   "display_name": "Python 3",
   "language": "python",
   "name": "python3"
  },
  "language_info": {
   "codemirror_mode": {
    "name": "ipython",
    "version": 3
   },
   "file_extension": ".py",
   "mimetype": "text/x-python",
   "name": "python",
   "nbconvert_exporter": "python",
   "pygments_lexer": "ipython3",
   "version": "3.8.8"
  }
 },
 "nbformat": 4,
 "nbformat_minor": 5
}
