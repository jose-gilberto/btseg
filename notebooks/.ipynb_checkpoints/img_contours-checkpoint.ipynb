{
 "cells": [
  {
   "cell_type": "code",
   "execution_count": 1,
   "id": "aff0b2e0",
   "metadata": {},
   "outputs": [],
   "source": [
    "import numpy as np\n",
    "import cv2\n",
    "import matplotlib.pyplot as plt"
   ]
  },
  {
   "cell_type": "code",
   "execution_count": 2,
   "id": "ad06e78f",
   "metadata": {},
   "outputs": [
    {
     "data": {
      "text/plain": [
       "<matplotlib.image.AxesImage at 0x1aed83d10a0>"
      ]
     },
     "execution_count": 2,
     "metadata": {},
     "output_type": "execute_result"
    },
    {
     "data": {
      "image/png": "[encoded data removed]",
      "text/plain": [
       "<Figure size 432x288 with 1 Axes>"
      ]
     },
     "metadata": {
      "needs_background": "light"
     },
     "output_type": "display_data"
    }
   ],
   "source": [
    "img = cv2.imread('../data/Outdir/75.png', 0)\n",
    "plt.imshow(img)"
   ]
  },
  {
   "cell_type": "code",
   "execution_count": 3,
   "id": "52b88236",
   "metadata": {},
   "outputs": [
    {
     "data": {
      "text/plain": [
       "array([  0,  64, 127, 255], dtype=uint8)"
      ]
     },
     "execution_count": 3,
     "metadata": {},
     "output_type": "execute_result"
    }
   ],
   "source": [
    "np.unique(img)"
   ]
  },
  {
   "cell_type": "code",
   "execution_count": 4,
   "id": "0e14a36e",
   "metadata": {},
   "outputs": [
    {
     "data": {
      "text/plain": [
       "<matplotlib.image.AxesImage at 0x1aed8b4abe0>"
      ]
     },
     "execution_count": 4,
     "metadata": {},
     "output_type": "execute_result"
    },
    {
     "data": {
      "image/png": "[encoded data removed]",
      "text/plain": [
       "<Figure size 432x288 with 1 Axes>"
      ]
     },
     "metadata": {
      "needs_background": "light"
     },
     "output_type": "display_data"
    }
   ],
   "source": [
    "img = np.where(img > 0, 64, img)\n",
    "plt.imshow(img)"
   ]
  },
  {
   "cell_type": "code",
   "execution_count": 5,
   "id": "6c3fbcb1",
   "metadata": {},
   "outputs": [
    {
     "data": {
      "text/plain": [
       "<matplotlib.image.AxesImage at 0x1aed8bac8e0>"
      ]
     },
     "execution_count": 5,
     "metadata": {},
     "output_type": "execute_result"
    },
    {
     "data": {
      "image/png": "[encoded data removed]",
      "text/plain": [
       "<Figure size 432x288 with 1 Axes>"
      ]
     },
     "metadata": {
      "needs_background": "light"
     },
     "output_type": "display_data"
    }
   ],
   "source": [
    "img_bw = img <= 63\n",
    "img_bw = 255 * img_bw.astype('uint8')\n",
    "plt.imshow(img_bw)"
   ]
  },
  {
   "cell_type": "code",
   "execution_count": 6,
   "id": "c6f185fd",
   "metadata": {},
   "outputs": [],
   "source": [
    "contours, _ = cv2.findContours(img_bw, cv2.RETR_EXTERNAL, cv2.CHAIN_APPROX_NONE)"
   ]
  },
  {
   "cell_type": "code",
   "execution_count": 7,
   "id": "9cd1e537",
   "metadata": {},
   "outputs": [],
   "source": [
    "out = img.copy()"
   ]
  },
  {
   "cell_type": "code",
   "execution_count": 8,
   "id": "2524d733",
   "metadata": {},
   "outputs": [
    {
     "data": {
      "text/plain": [
       "array([[255, 255, 255, ..., 255, 255, 255],\n",
       "       [255,   0,   0, ...,   0,   0, 255],\n",
       "       [255,   0,   0, ...,   0,   0, 255],\n",
       "       ...,\n",
       "       [255,   0,   0, ...,   0,   0, 255],\n",
       "       [255,   0,   0, ...,   0,   0, 255],\n",
       "       [255, 255, 255, ..., 255, 255, 255]], dtype=uint8)"
      ]
     },
     "execution_count": 8,
     "metadata": {},
     "output_type": "execute_result"
    }
   ],
   "source": [
    "ref = np.zeros_like(img_bw)\n",
    "cv2.drawContours(ref, contours, 0, 255, 1)"
   ]
  },
  {
   "cell_type": "code",
   "execution_count": 9,
   "id": "b26cf490",
   "metadata": {},
   "outputs": [],
   "source": [
    "M = cv2.moments(contours[0])\n",
    "centroid_x = int(M['m10']/M['m00'])\n",
    "centroid_y = int(M['m01']/M['m00'])"
   ]
  },
  {
   "cell_type": "code",
   "execution_count": 10,
   "id": "46e8955f",
   "metadata": {},
   "outputs": [],
   "source": [
    "width = img.shape[1]\n",
    "height = img.shape[0]"
   ]
  },
  {
   "cell_type": "code",
   "execution_count": 11,
   "id": "bbd21c9b",
   "metadata": {},
   "outputs": [],
   "source": [
    "N = 60\n",
    "distances = []"
   ]
  },
  {
   "cell_type": "code",
   "execution_count": 12,
   "id": "9d45ec58",
   "metadata": {},
   "outputs": [],
   "source": [
    "for i in range(N):\n",
    "    # Step #6a\n",
    "    tmp = np.zeros_like(img_bw)\n",
    "\n",
    "    # Step #6b\n",
    "    theta = i*(360/N)\n",
    "    theta *= np.pi/180.0\n",
    "\n",
    "    # Step #6c\n",
    "    cv2.line(tmp, (centroid_x, centroid_y),\n",
    "           (int(centroid_x+np.cos(theta)*width),\n",
    "            int(centroid_y-np.sin(theta)*height)), 255, 5)\n",
    "\n",
    "    # Step #6d\n",
    "    (row,col) = np.nonzero(np.logical_and(tmp, ref))\n",
    "\n",
    "    # Step #6e\n",
    "    cv2.line(out, (centroid_x, centroid_y), (col[0],row[0]), 0, 1)\n"
   ]
  },
  {
   "cell_type": "code",
   "execution_count": 13,
   "id": "1f621fdc",
   "metadata": {},
   "outputs": [
    {
     "data": {
      "text/plain": [
       "<matplotlib.image.AxesImage at 0x1aed8c18160>"
      ]
     },
     "execution_count": 13,
     "metadata": {},
     "output_type": "execute_result"
    },
    {
     "data": {
      "image/png": "[encoded data removed]",
      "text/plain": [
       "<Figure size 432x288 with 1 Axes>"
      ]
     },
     "metadata": {
      "needs_background": "light"
     },
     "output_type": "display_data"
    }
   ],
   "source": [
    "# Show the image\n",
    "# Step #7\n",
    "plt.imshow(out)\n",
    "# cv2.imshow('Output', out)\n",
    "# cv2.waitKey(0)\n",
    "# cv2.destroyAllWindows()"
   ]
  }
 ],
 "metadata": {
  "kernelspec": {
   "display_name": "Python 3",
   "language": "python",
   "name": "python3"
  },
  "language_info": {
   "codemirror_mode": {
    "name": "ipython",
    "version": 3
   },
   "file_extension": ".py",
   "mimetype": "text/x-python",
   "name": "python",
   "nbconvert_exporter": "python",
   "pygments_lexer": "ipython3",
   "version": "3.8.8"
  }
 },
 "nbformat": 4,
 "nbformat_minor": 5
}
