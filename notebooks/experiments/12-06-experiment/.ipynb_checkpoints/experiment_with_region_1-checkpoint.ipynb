{
 "cells": [
  {
   "cell_type": "code",
   "execution_count": 45,
   "id": "ff6b9eea",
   "metadata": {},
   "outputs": [],
   "source": [
    "from btseg.processors.time_series_processor import TimeSeriesProcessor"
   ]
  },
  {
   "cell_type": "code",
   "execution_count": 61,
   "id": "6950fa8e",
   "metadata": {},
   "outputs": [
    {
     "data": {
      "text/plain": [
       "<btseg.processors.time_series_processor.TimeSeriesProcessor at 0x14a91130e20>"
      ]
     },
     "execution_count": 61,
     "metadata": {},
     "output_type": "execute_result"
    }
   ],
   "source": [
    "ts_processor = TimeSeriesProcessor('C:/Users/Gilberto/Desktop/Gilberto/Projetos/btseg/data/Outdir',\n",
    "                                   region=1,\n",
    "                                   angles=720)\n",
    "ts_processor"
   ]
  },
  {
   "cell_type": "code",
   "execution_count": 62,
   "id": "d3fae4cb",
   "metadata": {},
   "outputs": [],
   "source": [
    "time_series = ts_processor.run()"
   ]
  },
  {
   "cell_type": "code",
   "execution_count": 64,
   "id": "eaac5568",
   "metadata": {},
   "outputs": [
    {
     "data": {
      "text/html": [
       "<div>\n",
       "<style scoped>\n",
       "    .dataframe tbody tr th:only-of-type {\n",
       "        vertical-align: middle;\n",
       "    }\n",
       "\n",
       "    .dataframe tbody tr th {\n",
       "        vertical-align: top;\n",
       "    }\n",
       "\n",
       "    .dataframe thead th {\n",
       "        text-align: right;\n",
       "    }\n",
       "</style>\n",
       "<table border=\"1\" class=\"dataframe\">\n",
       "  <thead>\n",
       "    <tr style=\"text-align: right;\">\n",
       "      <th></th>\n",
       "      <th>a_0</th>\n",
       "      <th>a_1</th>\n",
       "      <th>a_2</th>\n",
       "      <th>a_3</th>\n",
       "      <th>a_4</th>\n",
       "      <th>a_5</th>\n",
       "      <th>a_6</th>\n",
       "      <th>a_7</th>\n",
       "      <th>a_8</th>\n",
       "      <th>a_9</th>\n",
       "      <th>...</th>\n",
       "      <th>a_710</th>\n",
       "      <th>a_711</th>\n",
       "      <th>a_712</th>\n",
       "      <th>a_713</th>\n",
       "      <th>a_714</th>\n",
       "      <th>a_715</th>\n",
       "      <th>a_716</th>\n",
       "      <th>a_717</th>\n",
       "      <th>a_718</th>\n",
       "      <th>a_719</th>\n",
       "    </tr>\n",
       "  </thead>\n",
       "  <tbody>\n",
       "    <tr>\n",
       "      <th>0</th>\n",
       "      <td>109.041277</td>\n",
       "      <td>110.072703</td>\n",
       "      <td>113.15918</td>\n",
       "      <td>113.216607</td>\n",
       "      <td>113.282832</td>\n",
       "      <td>112.361025</td>\n",
       "      <td>108.55874</td>\n",
       "      <td>108.55874</td>\n",
       "      <td>106.794195</td>\n",
       "      <td>105.929222</td>\n",
       "      <td>...</td>\n",
       "      <td>100.31949</td>\n",
       "      <td>101.242284</td>\n",
       "      <td>102.176318</td>\n",
       "      <td>103.121288</td>\n",
       "      <td>104.076895</td>\n",
       "      <td>105.042848</td>\n",
       "      <td>107.004673</td>\n",
       "      <td>107.004673</td>\n",
       "      <td>107.004673</td>\n",
       "      <td>108.018517</td>\n",
       "    </tr>\n",
       "    <tr>\n",
       "      <th>1</th>\n",
       "      <td>62.072538</td>\n",
       "      <td>63.126856</td>\n",
       "      <td>64.195015</td>\n",
       "      <td>65.276336</td>\n",
       "      <td>65.375837</td>\n",
       "      <td>66.483081</td>\n",
       "      <td>66.483081</td>\n",
       "      <td>66.61081</td>\n",
       "      <td>66.753277</td>\n",
       "      <td>66.910388</td>\n",
       "      <td>...</td>\n",
       "      <td>60.207973</td>\n",
       "      <td>60.133186</td>\n",
       "      <td>60.074953</td>\n",
       "      <td>60.033324</td>\n",
       "      <td>60.033324</td>\n",
       "      <td>60.008333</td>\n",
       "      <td>60.0</td>\n",
       "      <td>60.008333</td>\n",
       "      <td>61.032778</td>\n",
       "      <td>62.072538</td>\n",
       "    </tr>\n",
       "    <tr>\n",
       "      <th>2</th>\n",
       "      <td>91.049437</td>\n",
       "      <td>90.088845</td>\n",
       "      <td>90.088845</td>\n",
       "      <td>90.138782</td>\n",
       "      <td>89.202018</td>\n",
       "      <td>89.274856</td>\n",
       "      <td>89.274856</td>\n",
       "      <td>89.358827</td>\n",
       "      <td>88.45903</td>\n",
       "      <td>88.45903</td>\n",
       "      <td>...</td>\n",
       "      <td>92.086915</td>\n",
       "      <td>92.0489</td>\n",
       "      <td>92.0489</td>\n",
       "      <td>92.021737</td>\n",
       "      <td>92.005435</td>\n",
       "      <td>92.005435</td>\n",
       "      <td>92.005435</td>\n",
       "      <td>92.005435</td>\n",
       "      <td>92.021737</td>\n",
       "      <td>91.049437</td>\n",
       "    </tr>\n",
       "    <tr>\n",
       "      <th>3</th>\n",
       "      <td>3.0</td>\n",
       "      <td>3.0</td>\n",
       "      <td>3.0</td>\n",
       "      <td>3.0</td>\n",
       "      <td>3.0</td>\n",
       "      <td>3.0</td>\n",
       "      <td>3.0</td>\n",
       "      <td>7.211103</td>\n",
       "      <td>7.211103</td>\n",
       "      <td>7.211103</td>\n",
       "      <td>...</td>\n",
       "      <td>3.0</td>\n",
       "      <td>3.0</td>\n",
       "      <td>3.0</td>\n",
       "      <td>3.0</td>\n",
       "      <td>3.0</td>\n",
       "      <td>3.0</td>\n",
       "      <td>3.0</td>\n",
       "      <td>3.0</td>\n",
       "      <td>3.0</td>\n",
       "      <td>3.0</td>\n",
       "    </tr>\n",
       "    <tr>\n",
       "      <th>4</th>\n",
       "      <td>39.115214</td>\n",
       "      <td>39.204592</td>\n",
       "      <td>39.204592</td>\n",
       "      <td>39.319207</td>\n",
       "      <td>39.319207</td>\n",
       "      <td>39.458839</td>\n",
       "      <td>39.458839</td>\n",
       "      <td>39.623226</td>\n",
       "      <td>39.623226</td>\n",
       "      <td>39.812058</td>\n",
       "      <td>...</td>\n",
       "      <td>39.051248</td>\n",
       "      <td>39.051248</td>\n",
       "      <td>39.012818</td>\n",
       "      <td>39.0</td>\n",
       "      <td>39.0</td>\n",
       "      <td>39.012818</td>\n",
       "      <td>39.012818</td>\n",
       "      <td>39.051248</td>\n",
       "      <td>39.051248</td>\n",
       "      <td>39.115214</td>\n",
       "    </tr>\n",
       "    <tr>\n",
       "      <th>...</th>\n",
       "      <td>...</td>\n",
       "      <td>...</td>\n",
       "      <td>...</td>\n",
       "      <td>...</td>\n",
       "      <td>...</td>\n",
       "      <td>...</td>\n",
       "      <td>...</td>\n",
       "      <td>...</td>\n",
       "      <td>...</td>\n",
       "      <td>...</td>\n",
       "      <td>...</td>\n",
       "      <td>...</td>\n",
       "      <td>...</td>\n",
       "      <td>...</td>\n",
       "      <td>...</td>\n",
       "      <td>...</td>\n",
       "      <td>...</td>\n",
       "      <td>...</td>\n",
       "      <td>...</td>\n",
       "      <td>...</td>\n",
       "      <td>...</td>\n",
       "    </tr>\n",
       "    <tr>\n",
       "      <th>145</th>\n",
       "      <td>74.060786</td>\n",
       "      <td>74.108029</td>\n",
       "      <td>74.168727</td>\n",
       "      <td>74.242845</td>\n",
       "      <td>74.330344</td>\n",
       "      <td>74.431176</td>\n",
       "      <td>73.552702</td>\n",
       "      <td>73.681748</td>\n",
       "      <td>73.824115</td>\n",
       "      <td>72.99315</td>\n",
       "      <td>...</td>\n",
       "      <td>77.317527</td>\n",
       "      <td>76.236474</td>\n",
       "      <td>76.10519</td>\n",
       "      <td>76.10519</td>\n",
       "      <td>75.059976</td>\n",
       "      <td>74.006756</td>\n",
       "      <td>74.0</td>\n",
       "      <td>74.0</td>\n",
       "      <td>74.006756</td>\n",
       "      <td>74.027022</td>\n",
       "    </tr>\n",
       "    <tr>\n",
       "      <th>146</th>\n",
       "      <td>92.0489</td>\n",
       "      <td>91.137259</td>\n",
       "      <td>91.197588</td>\n",
       "      <td>90.199778</td>\n",
       "      <td>87.367042</td>\n",
       "      <td>84.480767</td>\n",
       "      <td>84.480767</td>\n",
       "      <td>83.600239</td>\n",
       "      <td>81.743501</td>\n",
       "      <td>74.966659</td>\n",
       "      <td>...</td>\n",
       "      <td>73.24616</td>\n",
       "      <td>76.164296</td>\n",
       "      <td>76.164296</td>\n",
       "      <td>78.102497</td>\n",
       "      <td>80.05623</td>\n",
       "      <td>85.023526</td>\n",
       "      <td>86.005814</td>\n",
       "      <td>89.0</td>\n",
       "      <td>91.005494</td>\n",
       "      <td>92.021737</td>\n",
       "    </tr>\n",
       "    <tr>\n",
       "      <th>147</th>\n",
       "      <td>87.051709</td>\n",
       "      <td>87.091905</td>\n",
       "      <td>87.14356</td>\n",
       "      <td>87.281155</td>\n",
       "      <td>87.367042</td>\n",
       "      <td>87.464278</td>\n",
       "      <td>87.572827</td>\n",
       "      <td>87.692645</td>\n",
       "      <td>86.833173</td>\n",
       "      <td>85.988371</td>\n",
       "      <td>...</td>\n",
       "      <td>87.367042</td>\n",
       "      <td>87.281155</td>\n",
       "      <td>87.206651</td>\n",
       "      <td>87.14356</td>\n",
       "      <td>87.051709</td>\n",
       "      <td>87.051709</td>\n",
       "      <td>87.005747</td>\n",
       "      <td>87.0</td>\n",
       "      <td>87.005747</td>\n",
       "      <td>87.022985</td>\n",
       "    </tr>\n",
       "    <tr>\n",
       "      <th>148</th>\n",
       "      <td>17.262677</td>\n",
       "      <td>17.464249</td>\n",
       "      <td>17.464249</td>\n",
       "      <td>17.464249</td>\n",
       "      <td>17.720045</td>\n",
       "      <td>17.720045</td>\n",
       "      <td>17.720045</td>\n",
       "      <td>17.720045</td>\n",
       "      <td>18.027756</td>\n",
       "      <td>18.027756</td>\n",
       "      <td>...</td>\n",
       "      <td>17.0</td>\n",
       "      <td>17.0</td>\n",
       "      <td>17.0</td>\n",
       "      <td>17.029386</td>\n",
       "      <td>17.029386</td>\n",
       "      <td>17.029386</td>\n",
       "      <td>17.117243</td>\n",
       "      <td>17.117243</td>\n",
       "      <td>17.117243</td>\n",
       "      <td>17.262677</td>\n",
       "    </tr>\n",
       "    <tr>\n",
       "      <th>149</th>\n",
       "      <td>68.066144</td>\n",
       "      <td>68.117545</td>\n",
       "      <td>68.183576</td>\n",
       "      <td>68.183576</td>\n",
       "      <td>68.359345</td>\n",
       "      <td>68.359345</td>\n",
       "      <td>68.468971</td>\n",
       "      <td>68.593003</td>\n",
       "      <td>68.731361</td>\n",
       "      <td>68.731361</td>\n",
       "      <td>...</td>\n",
       "      <td>68.183576</td>\n",
       "      <td>68.117545</td>\n",
       "      <td>68.066144</td>\n",
       "      <td>68.066144</td>\n",
       "      <td>68.029405</td>\n",
       "      <td>68.007353</td>\n",
       "      <td>68.0</td>\n",
       "      <td>68.007353</td>\n",
       "      <td>68.029405</td>\n",
       "      <td>68.029405</td>\n",
       "    </tr>\n",
       "  </tbody>\n",
       "</table>\n",
       "<p>150 rows × 720 columns</p>\n",
       "</div>"
      ],
      "text/plain": [
       "            a_0         a_1        a_2         a_3         a_4         a_5  \\\n",
       "0    109.041277  110.072703  113.15918  113.216607  113.282832  112.361025   \n",
       "1     62.072538   63.126856  64.195015   65.276336   65.375837   66.483081   \n",
       "2     91.049437   90.088845  90.088845   90.138782   89.202018   89.274856   \n",
       "3           3.0         3.0        3.0         3.0         3.0         3.0   \n",
       "4     39.115214   39.204592  39.204592   39.319207   39.319207   39.458839   \n",
       "..          ...         ...        ...         ...         ...         ...   \n",
       "145   74.060786   74.108029  74.168727   74.242845   74.330344   74.431176   \n",
       "146     92.0489   91.137259  91.197588   90.199778   87.367042   84.480767   \n",
       "147   87.051709   87.091905   87.14356   87.281155   87.367042   87.464278   \n",
       "148   17.262677   17.464249  17.464249   17.464249   17.720045   17.720045   \n",
       "149   68.066144   68.117545  68.183576   68.183576   68.359345   68.359345   \n",
       "\n",
       "           a_6        a_7         a_8         a_9  ...      a_710       a_711  \\\n",
       "0    108.55874  108.55874  106.794195  105.929222  ...  100.31949  101.242284   \n",
       "1    66.483081   66.61081   66.753277   66.910388  ...  60.207973   60.133186   \n",
       "2    89.274856  89.358827    88.45903    88.45903  ...  92.086915     92.0489   \n",
       "3          3.0   7.211103    7.211103    7.211103  ...        3.0         3.0   \n",
       "4    39.458839  39.623226   39.623226   39.812058  ...  39.051248   39.051248   \n",
       "..         ...        ...         ...         ...  ...        ...         ...   \n",
       "145  73.552702  73.681748   73.824115    72.99315  ...  77.317527   76.236474   \n",
       "146  84.480767  83.600239   81.743501   74.966659  ...   73.24616   76.164296   \n",
       "147  87.572827  87.692645   86.833173   85.988371  ...  87.367042   87.281155   \n",
       "148  17.720045  17.720045   18.027756   18.027756  ...       17.0        17.0   \n",
       "149  68.468971  68.593003   68.731361   68.731361  ...  68.183576   68.117545   \n",
       "\n",
       "          a_712       a_713       a_714       a_715       a_716       a_717  \\\n",
       "0    102.176318  103.121288  104.076895  105.042848  107.004673  107.004673   \n",
       "1     60.074953   60.033324   60.033324   60.008333        60.0   60.008333   \n",
       "2       92.0489   92.021737   92.005435   92.005435   92.005435   92.005435   \n",
       "3           3.0         3.0         3.0         3.0         3.0         3.0   \n",
       "4     39.012818        39.0        39.0   39.012818   39.012818   39.051248   \n",
       "..          ...         ...         ...         ...         ...         ...   \n",
       "145    76.10519    76.10519   75.059976   74.006756        74.0        74.0   \n",
       "146   76.164296   78.102497    80.05623   85.023526   86.005814        89.0   \n",
       "147   87.206651    87.14356   87.051709   87.051709   87.005747        87.0   \n",
       "148        17.0   17.029386   17.029386   17.029386   17.117243   17.117243   \n",
       "149   68.066144   68.066144   68.029405   68.007353        68.0   68.007353   \n",
       "\n",
       "          a_718       a_719  \n",
       "0    107.004673  108.018517  \n",
       "1     61.032778   62.072538  \n",
       "2     92.021737   91.049437  \n",
       "3           3.0         3.0  \n",
       "4     39.051248   39.115214  \n",
       "..          ...         ...  \n",
       "145   74.006756   74.027022  \n",
       "146   91.005494   92.021737  \n",
       "147   87.005747   87.022985  \n",
       "148   17.117243   17.262677  \n",
       "149   68.029405   68.029405  \n",
       "\n",
       "[150 rows x 720 columns]"
      ]
     },
     "execution_count": 64,
     "metadata": {},
     "output_type": "execute_result"
    }
   ],
   "source": [
    "ts_ = time_series.dropna()\n",
    "ts_ = ts_.drop(['id'], axis=1)\n",
    "ts_"
   ]
  },
  {
   "cell_type": "code",
   "execution_count": 65,
   "id": "be4686ed",
   "metadata": {},
   "outputs": [],
   "source": [
    "ts_.to_csv('./experiment_region_1.csv', index=False)"
   ]
  },
  {
   "cell_type": "code",
   "execution_count": 66,
   "id": "546af8d6",
   "metadata": {},
   "outputs": [],
   "source": [
    "X = []\n",
    "for row in ts_.values:\n",
    "    X.append(list(row))"
   ]
  },
  {
   "cell_type": "markdown",
   "id": "51736ac4",
   "metadata": {},
   "source": [
    "## Model"
   ]
  },
  {
   "cell_type": "code",
   "execution_count": 16,
   "id": "f2292fb6",
   "metadata": {},
   "outputs": [],
   "source": [
    "import pandas as pd\n",
    "import numpy as np\n",
    "import DBCV\n",
    "from dtaidistance import dtw\n",
    "from btseg.clustering.hdbscan_clustering import HDBSCANClusterer"
   ]
  },
  {
   "cell_type": "code",
   "execution_count": 4,
   "id": "4a364a5f",
   "metadata": {},
   "outputs": [],
   "source": [
    "ts_ = pd.read_csv('./experiment_region_1.csv')\n",
    "X = ts_.values"
   ]
  },
  {
   "cell_type": "code",
   "execution_count": 6,
   "id": "4453ecfe",
   "metadata": {},
   "outputs": [
    {
     "data": {
      "text/plain": [
       "HDBSCAN(cluster_selection_method='leaf', metric='precomputed')"
      ]
     },
     "execution_count": 6,
     "metadata": {},
     "output_type": "execute_result"
    }
   ],
   "source": [
    "hdbscan = HDBSCANClusterer(min_cluster_samples=5, metric='dtw')\n",
    "hdbscan.model"
   ]
  },
  {
   "cell_type": "code",
   "execution_count": 7,
   "id": "161dacf1",
   "metadata": {},
   "outputs": [],
   "source": [
    "hdbscan.fit(X)"
   ]
  },
  {
   "cell_type": "code",
   "execution_count": 8,
   "id": "b55091fc",
   "metadata": {},
   "outputs": [
    {
     "data": {
      "text/plain": [
       "array([0.        , 0.        , 0.        , 1.        , 0.86511896,\n",
       "       0.        , 0.        , 0.91009565, 1.        , 1.        ,\n",
       "       0.90847655, 0.74612698, 1.        , 0.        , 1.        ,\n",
       "       0.        , 1.        , 0.69409036, 0.        , 0.82304815,\n",
       "       0.8327814 , 0.83201143, 0.        , 0.        , 1.        ,\n",
       "       0.        , 0.        , 0.92010642, 0.        , 0.        ,\n",
       "       0.82935199, 0.98931867, 0.70254569, 0.        , 0.        ,\n",
       "       0.7878762 , 0.75423643, 0.        , 0.        , 0.6802949 ,\n",
       "       0.        , 0.        , 0.        , 1.        , 0.73886155,\n",
       "       1.        , 1.        , 0.86764872, 0.        , 0.        ,\n",
       "       0.        , 0.        , 0.        , 0.        , 0.        ,\n",
       "       0.        , 0.        , 0.        , 0.        , 0.99423261,\n",
       "       0.92291406, 0.        , 0.8299799 , 0.        , 0.77862768,\n",
       "       0.        , 0.78068966, 0.        , 0.        , 0.        ,\n",
       "       1.        , 0.        , 0.        , 0.        , 0.        ,\n",
       "       1.        , 0.        , 0.95685107, 0.88553966, 0.        ,\n",
       "       0.        , 0.        , 0.86152995, 0.        , 0.69294845,\n",
       "       0.        , 0.        , 0.        , 0.        , 0.        ,\n",
       "       0.        , 0.83201143, 1.        , 0.        , 0.        ,\n",
       "       0.        , 0.        , 0.97484776, 0.        , 0.        ,\n",
       "       0.        , 0.86764872, 0.        , 0.92238315, 0.        ,\n",
       "       0.        , 0.88613055, 0.77951878, 1.        , 0.80030005,\n",
       "       0.        , 0.        , 0.        , 0.        , 0.90783046,\n",
       "       0.57647572, 0.69670468, 0.93376929, 0.        , 0.        ,\n",
       "       0.89468143, 0.        , 0.        , 1.        , 0.        ,\n",
       "       0.        , 0.72141986, 0.96543099, 0.        , 0.7645013 ,\n",
       "       0.70443232, 0.        , 0.69207276, 0.        , 0.80647975,\n",
       "       0.        , 0.8214135 , 0.        , 0.        , 0.        ,\n",
       "       1.        , 0.        , 0.94967007, 0.85363989, 0.        ,\n",
       "       0.90783046, 0.        , 0.        , 0.        , 0.        ])"
      ]
     },
     "execution_count": 8,
     "metadata": {},
     "output_type": "execute_result"
    }
   ],
   "source": [
    "hdbscan.model.probabilities_"
   ]
  },
  {
   "cell_type": "code",
   "execution_count": 9,
   "id": "5fc23af8",
   "metadata": {},
   "outputs": [
    {
     "data": {
      "text/plain": [
       "array([-1, -1, -1,  0,  2, -1, -1,  2,  1,  2,  2,  0,  0, -1,  2, -1,  1,\n",
       "        2, -1,  1,  2,  2, -1, -1,  2, -1, -1,  1, -1, -1,  2,  2,  2, -1,\n",
       "       -1,  0,  2, -1, -1,  0, -1, -1, -1,  0,  2,  1,  1,  2, -1, -1, -1,\n",
       "       -1, -1, -1, -1, -1, -1, -1, -1,  0,  2, -1,  2, -1,  2, -1,  0, -1,\n",
       "       -1, -1,  2, -1, -1, -1, -1,  2, -1,  1,  1, -1, -1, -1,  2, -1,  2,\n",
       "       -1, -1, -1, -1, -1, -1,  2,  0, -1, -1, -1, -1,  2, -1, -1, -1,  2,\n",
       "       -1,  0, -1, -1,  2,  2,  1,  2, -1, -1, -1, -1,  2,  0,  0,  2, -1,\n",
       "       -1,  2, -1, -1,  0, -1, -1,  2,  2, -1,  2,  2, -1,  2, -1,  2, -1,\n",
       "        2, -1, -1, -1,  0, -1,  1,  2, -1,  2, -1, -1, -1, -1],\n",
       "      dtype=int64)"
      ]
     },
     "execution_count": 9,
     "metadata": {},
     "output_type": "execute_result"
    }
   ],
   "source": [
    "out_labels = hdbscan.model.labels_\n",
    "out_labels"
   ]
  },
  {
   "cell_type": "code",
   "execution_count": 12,
   "id": "617883c3",
   "metadata": {},
   "outputs": [
    {
     "data": {
      "text/plain": [
       "(array([-1,  0,  1,  2], dtype=int64), array([86, 14, 10, 40], dtype=int64))"
      ]
     },
     "execution_count": 12,
     "metadata": {},
     "output_type": "execute_result"
    }
   ],
   "source": [
    "np.unique(out_labels, return_counts=True)"
   ]
  },
  {
   "cell_type": "code",
   "execution_count": 13,
   "id": "c708f603",
   "metadata": {},
   "outputs": [
    {
     "data": {
      "text/html": [
       "<div>\n",
       "<style scoped>\n",
       "    .dataframe tbody tr th:only-of-type {\n",
       "        vertical-align: middle;\n",
       "    }\n",
       "\n",
       "    .dataframe tbody tr th {\n",
       "        vertical-align: top;\n",
       "    }\n",
       "\n",
       "    .dataframe thead th {\n",
       "        text-align: right;\n",
       "    }\n",
       "</style>\n",
       "<table border=\"1\" class=\"dataframe\">\n",
       "  <thead>\n",
       "    <tr style=\"text-align: right;\">\n",
       "      <th></th>\n",
       "      <th>id</th>\n",
       "      <th>group</th>\n",
       "      <th>proba</th>\n",
       "    </tr>\n",
       "  </thead>\n",
       "  <tbody>\n",
       "    <tr>\n",
       "      <th>75</th>\n",
       "      <td>75</td>\n",
       "      <td>2</td>\n",
       "      <td>1.0</td>\n",
       "    </tr>\n",
       "    <tr>\n",
       "      <th>9</th>\n",
       "      <td>9</td>\n",
       "      <td>2</td>\n",
       "      <td>1.0</td>\n",
       "    </tr>\n",
       "    <tr>\n",
       "      <th>14</th>\n",
       "      <td>14</td>\n",
       "      <td>2</td>\n",
       "      <td>1.0</td>\n",
       "    </tr>\n",
       "    <tr>\n",
       "      <th>24</th>\n",
       "      <td>24</td>\n",
       "      <td>2</td>\n",
       "      <td>1.0</td>\n",
       "    </tr>\n",
       "    <tr>\n",
       "      <th>70</th>\n",
       "      <td>70</td>\n",
       "      <td>2</td>\n",
       "      <td>1.0</td>\n",
       "    </tr>\n",
       "  </tbody>\n",
       "</table>\n",
       "</div>"
      ],
      "text/plain": [
       "    id  group  proba\n",
       "75  75      2    1.0\n",
       "9    9      2    1.0\n",
       "14  14      2    1.0\n",
       "24  24      2    1.0\n",
       "70  70      2    1.0"
      ]
     },
     "execution_count": 13,
     "metadata": {},
     "output_type": "execute_result"
    }
   ],
   "source": [
    "result_df = pd.DataFrame({\n",
    "    'id': list(range(len(ts_))),\n",
    "    'group': out_labels,\n",
    "    'proba': hdbscan.model.probabilities_\n",
    "})\n",
    "\n",
    "result_df[result_df['group'] == 2].sort_values('proba', ascending=False).head()"
   ]
  },
  {
   "cell_type": "code",
   "execution_count": 119,
   "id": "83f19cde",
   "metadata": {},
   "outputs": [],
   "source": [
    "import matplotlib.pyplot as plt\n",
    "\n",
    "def plot(arr, X):\n",
    "    x = list(range(720))\n",
    "    \n",
    "    fig = plt.figure(figsize=(12, 4))\n",
    "    for i in arr:\n",
    "        plt.plot(x, X[i], color='steelblue')\n",
    "        \n",
    "    plt.ylim((0, 160))\n",
    "    plt.show()"
   ]
  },
  {
   "cell_type": "code",
   "execution_count": 120,
   "id": "1513ae0a",
   "metadata": {},
   "outputs": [
    {
     "data": {
      "image/png": "[encoded data removed]",
      "text/plain": [
       "<Figure size 864x288 with 1 Axes>"
      ]
     },
     "metadata": {
      "needs_background": "light"
     },
     "output_type": "display_data"
    }
   ],
   "source": [
    "plot([75, 9, 14, 24, 70], X)"
   ]
  },
  {
   "cell_type": "code",
   "execution_count": 121,
   "id": "751c93e5",
   "metadata": {},
   "outputs": [
    {
     "data": {
      "text/html": [
       "<div>\n",
       "<style scoped>\n",
       "    .dataframe tbody tr th:only-of-type {\n",
       "        vertical-align: middle;\n",
       "    }\n",
       "\n",
       "    .dataframe tbody tr th {\n",
       "        vertical-align: top;\n",
       "    }\n",
       "\n",
       "    .dataframe thead th {\n",
       "        text-align: right;\n",
       "    }\n",
       "</style>\n",
       "<table border=\"1\" class=\"dataframe\">\n",
       "  <thead>\n",
       "    <tr style=\"text-align: right;\">\n",
       "      <th></th>\n",
       "      <th>id</th>\n",
       "      <th>group</th>\n",
       "      <th>proba</th>\n",
       "    </tr>\n",
       "  </thead>\n",
       "  <tbody>\n",
       "    <tr>\n",
       "      <th>3</th>\n",
       "      <td>3</td>\n",
       "      <td>0</td>\n",
       "      <td>1.0</td>\n",
       "    </tr>\n",
       "    <tr>\n",
       "      <th>12</th>\n",
       "      <td>12</td>\n",
       "      <td>0</td>\n",
       "      <td>1.0</td>\n",
       "    </tr>\n",
       "    <tr>\n",
       "      <th>43</th>\n",
       "      <td>43</td>\n",
       "      <td>0</td>\n",
       "      <td>1.0</td>\n",
       "    </tr>\n",
       "    <tr>\n",
       "      <th>92</th>\n",
       "      <td>92</td>\n",
       "      <td>0</td>\n",
       "      <td>1.0</td>\n",
       "    </tr>\n",
       "    <tr>\n",
       "      <th>123</th>\n",
       "      <td>123</td>\n",
       "      <td>0</td>\n",
       "      <td>1.0</td>\n",
       "    </tr>\n",
       "  </tbody>\n",
       "</table>\n",
       "</div>"
      ],
      "text/plain": [
       "      id  group  proba\n",
       "3      3      0    1.0\n",
       "12    12      0    1.0\n",
       "43    43      0    1.0\n",
       "92    92      0    1.0\n",
       "123  123      0    1.0"
      ]
     },
     "execution_count": 121,
     "metadata": {},
     "output_type": "execute_result"
    }
   ],
   "source": [
    "result_df[result_df['group'] == 0].sort_values('proba', ascending=False).head()"
   ]
  },
  {
   "cell_type": "code",
   "execution_count": 122,
   "id": "249aa3c9",
   "metadata": {},
   "outputs": [
    {
     "data": {
      "image/png": "[encoded data removed]",
      "text/plain": [
       "<Figure size 864x288 with 1 Axes>"
      ]
     },
     "metadata": {
      "needs_background": "light"
     },
     "output_type": "display_data"
    }
   ],
   "source": [
    "plot([3, 12, 43, 92, 123], X)"
   ]
  },
  {
   "cell_type": "code",
   "execution_count": 123,
   "id": "b33fc76d",
   "metadata": {},
   "outputs": [
    {
     "data": {
      "text/html": [
       "<div>\n",
       "<style scoped>\n",
       "    .dataframe tbody tr th:only-of-type {\n",
       "        vertical-align: middle;\n",
       "    }\n",
       "\n",
       "    .dataframe tbody tr th {\n",
       "        vertical-align: top;\n",
       "    }\n",
       "\n",
       "    .dataframe thead th {\n",
       "        text-align: right;\n",
       "    }\n",
       "</style>\n",
       "<table border=\"1\" class=\"dataframe\">\n",
       "  <thead>\n",
       "    <tr style=\"text-align: right;\">\n",
       "      <th></th>\n",
       "      <th>id</th>\n",
       "      <th>group</th>\n",
       "      <th>proba</th>\n",
       "    </tr>\n",
       "  </thead>\n",
       "  <tbody>\n",
       "    <tr>\n",
       "      <th>8</th>\n",
       "      <td>8</td>\n",
       "      <td>1</td>\n",
       "      <td>1.0</td>\n",
       "    </tr>\n",
       "    <tr>\n",
       "      <th>16</th>\n",
       "      <td>16</td>\n",
       "      <td>1</td>\n",
       "      <td>1.0</td>\n",
       "    </tr>\n",
       "    <tr>\n",
       "      <th>45</th>\n",
       "      <td>45</td>\n",
       "      <td>1</td>\n",
       "      <td>1.0</td>\n",
       "    </tr>\n",
       "    <tr>\n",
       "      <th>46</th>\n",
       "      <td>46</td>\n",
       "      <td>1</td>\n",
       "      <td>1.0</td>\n",
       "    </tr>\n",
       "    <tr>\n",
       "      <th>108</th>\n",
       "      <td>108</td>\n",
       "      <td>1</td>\n",
       "      <td>1.0</td>\n",
       "    </tr>\n",
       "  </tbody>\n",
       "</table>\n",
       "</div>"
      ],
      "text/plain": [
       "      id  group  proba\n",
       "8      8      1    1.0\n",
       "16    16      1    1.0\n",
       "45    45      1    1.0\n",
       "46    46      1    1.0\n",
       "108  108      1    1.0"
      ]
     },
     "execution_count": 123,
     "metadata": {},
     "output_type": "execute_result"
    }
   ],
   "source": [
    "result_df[result_df['group'] == 1].sort_values('proba', ascending=False).head()"
   ]
  },
  {
   "cell_type": "code",
   "execution_count": 124,
   "id": "272e6a83",
   "metadata": {},
   "outputs": [
    {
     "data": {
      "image/png": "[encoded data removed]",
      "text/plain": [
       "<Figure size 864x288 with 1 Axes>"
      ]
     },
     "metadata": {
      "needs_background": "light"
     },
     "output_type": "display_data"
    }
   ],
   "source": [
    "plot([8, 16, 45, 46, 108], X)"
   ]
  },
  {
   "cell_type": "code",
   "execution_count": 15,
   "id": "879a83bd",
   "metadata": {},
   "outputs": [
    {
     "name": "stdout",
     "output_type": "stream",
     "text": [
      "Collecting git+https://github.com/christopherjenness/DBCV\n",
      "  Cloning https://github.com/christopherjenness/DBCV to c:\\users\\gilberto\\appdata\\local\\temp\\pip-req-build-8_fhnkli\n",
      "  Resolved https://github.com/christopherjenness/DBCV to commit db7345c45ab7d33ea500778e5c9048fd9f7d3156\n",
      "Requirement already satisfied: numpy in c:\\users\\gilberto\\anaconda3\\lib\\site-packages (from DBCV==0.0.0) (1.20.1)\n",
      "Requirement already satisfied: scipy in c:\\users\\gilberto\\anaconda3\\lib\\site-packages (from DBCV==0.0.0) (1.6.2)\n",
      "Building wheels for collected packages: DBCV\n",
      "  Building wheel for DBCV (setup.py): started\n",
      "  Building wheel for DBCV (setup.py): finished with status 'done'\n",
      "  Created wheel for DBCV: filename=DBCV-0.0.0-py3-none-any.whl size=4226 sha256=5166f0a7dd7e2be669c58c9ca866581059274c9078a91bad64b80a170fffff75\n",
      "  Stored in directory: C:\\Users\\Gilberto\\AppData\\Local\\Temp\\pip-ephem-wheel-cache-2ueb23c3\\wheels\\45\\c8\\27\\e4cf2587c9ce2d752a125c67b9267db011a0273db31e42a154\n",
      "Successfully built DBCV\n",
      "Installing collected packages: DBCV\n",
      "Successfully installed DBCV-0.0.0\n"
     ]
    },
    {
     "name": "stderr",
     "output_type": "stream",
     "text": [
      "WARNING: Ignoring invalid distribution -orchvision (c:\\users\\gilberto\\anaconda3\\lib\\site-packages)\n",
      "WARNING: Ignoring invalid distribution -orchvision (c:\\users\\gilberto\\anaconda3\\lib\\site-packages)\n",
      "  Running command git clone -q https://github.com/christopherjenness/DBCV 'C:\\Users\\Gilberto\\AppData\\Local\\Temp\\pip-req-build-8_fhnkli'\n",
      "WARNING: Ignoring invalid distribution -orchvision (c:\\users\\gilberto\\anaconda3\\lib\\site-packages)\n",
      "WARNING: Ignoring invalid distribution -orchvision (c:\\users\\gilberto\\anaconda3\\lib\\site-packages)\n",
      "WARNING: Ignoring invalid distribution -orchvision (c:\\users\\gilberto\\anaconda3\\lib\\site-packages)\n",
      "WARNING: Ignoring invalid distribution -orchvision (c:\\users\\gilberto\\anaconda3\\lib\\site-packages)\n",
      "WARNING: Ignoring invalid distribution -orchvision (c:\\users\\gilberto\\anaconda3\\lib\\site-packages)\n",
      "WARNING: You are using pip version 21.2.4; however, version 21.3.1 is available.\n",
      "You should consider upgrading via the 'c:\\users\\gilberto\\anaconda3\\python.exe -m pip install --upgrade pip' command.\n"
     ]
    }
   ],
   "source": [
    "hdbscans"
   ]
  }
 ],
 "metadata": {
  "kernelspec": {
   "display_name": "Python 3",
   "language": "python",
   "name": "python3"
  },
  "language_info": {
   "codemirror_mode": {
    "name": "ipython",
    "version": 3
   },
   "file_extension": ".py",
   "mimetype": "text/x-python",
   "name": "python",
   "nbconvert_exporter": "python",
   "pygments_lexer": "ipython3",
   "version": "3.8.8"
  }
 },
 "nbformat": 4,
 "nbformat_minor": 5
}
