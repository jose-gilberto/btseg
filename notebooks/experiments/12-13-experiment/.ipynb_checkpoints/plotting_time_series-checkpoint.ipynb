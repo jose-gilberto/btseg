{
 "cells": [
  {
   "cell_type": "code",
   "execution_count": 7,
   "id": "a3d2322c",
   "metadata": {},
   "outputs": [],
   "source": [
    "import pandas as pd\n",
    "import umap.umap_ as umap"
   ]
  },
  {
   "cell_type": "code",
   "execution_count": 35,
   "id": "cf8689b8",
   "metadata": {},
   "outputs": [
    {
     "data": {
      "text/html": [
       "<div>\n",
       "<style scoped>\n",
       "    .dataframe tbody tr th:only-of-type {\n",
       "        vertical-align: middle;\n",
       "    }\n",
       "\n",
       "    .dataframe tbody tr th {\n",
       "        vertical-align: top;\n",
       "    }\n",
       "\n",
       "    .dataframe thead th {\n",
       "        text-align: right;\n",
       "    }\n",
       "</style>\n",
       "<table border=\"1\" class=\"dataframe\">\n",
       "  <thead>\n",
       "    <tr style=\"text-align: right;\">\n",
       "      <th></th>\n",
       "      <th>id</th>\n",
       "      <th>group</th>\n",
       "      <th>proba</th>\n",
       "    </tr>\n",
       "  </thead>\n",
       "  <tbody>\n",
       "    <tr>\n",
       "      <th>0</th>\n",
       "      <td>1</td>\n",
       "      <td>-1</td>\n",
       "      <td>0.000000</td>\n",
       "    </tr>\n",
       "    <tr>\n",
       "      <th>1</th>\n",
       "      <td>2</td>\n",
       "      <td>-1</td>\n",
       "      <td>0.000000</td>\n",
       "    </tr>\n",
       "    <tr>\n",
       "      <th>2</th>\n",
       "      <td>3</td>\n",
       "      <td>-1</td>\n",
       "      <td>0.000000</td>\n",
       "    </tr>\n",
       "    <tr>\n",
       "      <th>3</th>\n",
       "      <td>4</td>\n",
       "      <td>2</td>\n",
       "      <td>1.000000</td>\n",
       "    </tr>\n",
       "    <tr>\n",
       "      <th>4</th>\n",
       "      <td>5</td>\n",
       "      <td>1</td>\n",
       "      <td>0.778977</td>\n",
       "    </tr>\n",
       "    <tr>\n",
       "      <th>...</th>\n",
       "      <td>...</td>\n",
       "      <td>...</td>\n",
       "      <td>...</td>\n",
       "    </tr>\n",
       "    <tr>\n",
       "      <th>145</th>\n",
       "      <td>146</td>\n",
       "      <td>1</td>\n",
       "      <td>0.827414</td>\n",
       "    </tr>\n",
       "    <tr>\n",
       "      <th>146</th>\n",
       "      <td>147</td>\n",
       "      <td>-1</td>\n",
       "      <td>0.000000</td>\n",
       "    </tr>\n",
       "    <tr>\n",
       "      <th>147</th>\n",
       "      <td>148</td>\n",
       "      <td>0</td>\n",
       "      <td>0.789219</td>\n",
       "    </tr>\n",
       "    <tr>\n",
       "      <th>148</th>\n",
       "      <td>149</td>\n",
       "      <td>-1</td>\n",
       "      <td>0.000000</td>\n",
       "    </tr>\n",
       "    <tr>\n",
       "      <th>149</th>\n",
       "      <td>150</td>\n",
       "      <td>-1</td>\n",
       "      <td>0.000000</td>\n",
       "    </tr>\n",
       "  </tbody>\n",
       "</table>\n",
       "<p>150 rows × 3 columns</p>\n",
       "</div>"
      ],
      "text/plain": [
       "      id  group     proba\n",
       "0      1     -1  0.000000\n",
       "1      2     -1  0.000000\n",
       "2      3     -1  0.000000\n",
       "3      4      2  1.000000\n",
       "4      5      1  0.778977\n",
       "..   ...    ...       ...\n",
       "145  146      1  0.827414\n",
       "146  147     -1  0.000000\n",
       "147  148      0  0.789219\n",
       "148  149     -1  0.000000\n",
       "149  150     -1  0.000000\n",
       "\n",
       "[150 rows x 3 columns]"
      ]
     },
     "execution_count": 35,
     "metadata": {},
     "output_type": "execute_result"
    }
   ],
   "source": [
    "results = pd.read_csv('result_1.csv')\n",
    "results['id'] = results['id'] + 1\n",
    "results.drop('Unnamed: 0', axis=1, inplace=True)\n",
    "results"
   ]
  },
  {
   "cell_type": "code",
   "execution_count": 9,
   "id": "f1de55ae",
   "metadata": {},
   "outputs": [
    {
     "data": {
      "text/html": [
       "<div>\n",
       "<style scoped>\n",
       "    .dataframe tbody tr th:only-of-type {\n",
       "        vertical-align: middle;\n",
       "    }\n",
       "\n",
       "    .dataframe tbody tr th {\n",
       "        vertical-align: top;\n",
       "    }\n",
       "\n",
       "    .dataframe thead th {\n",
       "        text-align: right;\n",
       "    }\n",
       "</style>\n",
       "<table border=\"1\" class=\"dataframe\">\n",
       "  <thead>\n",
       "    <tr style=\"text-align: right;\">\n",
       "      <th></th>\n",
       "      <th>id</th>\n",
       "      <th>path</th>\n",
       "      <th>slice_path</th>\n",
       "      <th>a_0</th>\n",
       "      <th>a_1</th>\n",
       "      <th>a_2</th>\n",
       "      <th>a_3</th>\n",
       "      <th>a_4</th>\n",
       "      <th>a_5</th>\n",
       "      <th>a_6</th>\n",
       "      <th>...</th>\n",
       "      <th>a_350</th>\n",
       "      <th>a_351</th>\n",
       "      <th>a_352</th>\n",
       "      <th>a_353</th>\n",
       "      <th>a_354</th>\n",
       "      <th>a_355</th>\n",
       "      <th>a_356</th>\n",
       "      <th>a_357</th>\n",
       "      <th>a_358</th>\n",
       "      <th>a_359</th>\n",
       "    </tr>\n",
       "  </thead>\n",
       "  <tbody>\n",
       "    <tr>\n",
       "      <th>0</th>\n",
       "      <td>1</td>\n",
       "      <td>C:/Users/Gilberto/Desktop/Gilberto/Projetos/bt...</td>\n",
       "      <td>C:/Users/Gilberto/Desktop/Gilberto/Projetos/bt...</td>\n",
       "      <td>109.041277</td>\n",
       "      <td>113.159180</td>\n",
       "      <td>113.282832</td>\n",
       "      <td>108.558740</td>\n",
       "      <td>106.794195</td>\n",
       "      <td>105.076163</td>\n",
       "      <td>103.406963</td>\n",
       "      <td>...</td>\n",
       "      <td>72.532751</td>\n",
       "      <td>102.420701</td>\n",
       "      <td>99.984999</td>\n",
       "      <td>99.724621</td>\n",
       "      <td>99.503769</td>\n",
       "      <td>100.319490</td>\n",
       "      <td>102.176318</td>\n",
       "      <td>104.076895</td>\n",
       "      <td>107.004673</td>\n",
       "      <td>107.004673</td>\n",
       "    </tr>\n",
       "    <tr>\n",
       "      <th>1</th>\n",
       "      <td>2</td>\n",
       "      <td>C:/Users/Gilberto/Desktop/Gilberto/Projetos/bt...</td>\n",
       "      <td>C:/Users/Gilberto/Desktop/Gilberto/Projetos/bt...</td>\n",
       "      <td>62.072538</td>\n",
       "      <td>64.195015</td>\n",
       "      <td>65.375837</td>\n",
       "      <td>66.483081</td>\n",
       "      <td>66.753277</td>\n",
       "      <td>67.082039</td>\n",
       "      <td>67.468511</td>\n",
       "      <td>...</td>\n",
       "      <td>66.490601</td>\n",
       "      <td>66.098411</td>\n",
       "      <td>61.660360</td>\n",
       "      <td>60.530984</td>\n",
       "      <td>60.299254</td>\n",
       "      <td>60.207973</td>\n",
       "      <td>60.074953</td>\n",
       "      <td>60.033324</td>\n",
       "      <td>60.000000</td>\n",
       "      <td>61.032778</td>\n",
       "    </tr>\n",
       "    <tr>\n",
       "      <th>2</th>\n",
       "      <td>3</td>\n",
       "      <td>C:/Users/Gilberto/Desktop/Gilberto/Projetos/bt...</td>\n",
       "      <td>C:/Users/Gilberto/Desktop/Gilberto/Projetos/bt...</td>\n",
       "      <td>91.049437</td>\n",
       "      <td>90.088845</td>\n",
       "      <td>89.202018</td>\n",
       "      <td>89.274856</td>\n",
       "      <td>88.459030</td>\n",
       "      <td>87.572827</td>\n",
       "      <td>87.692645</td>\n",
       "      <td>...</td>\n",
       "      <td>92.655275</td>\n",
       "      <td>92.541882</td>\n",
       "      <td>92.347171</td>\n",
       "      <td>92.265920</td>\n",
       "      <td>92.135769</td>\n",
       "      <td>92.086915</td>\n",
       "      <td>92.048900</td>\n",
       "      <td>92.005435</td>\n",
       "      <td>92.005435</td>\n",
       "      <td>92.021737</td>\n",
       "    </tr>\n",
       "    <tr>\n",
       "      <th>3</th>\n",
       "      <td>4</td>\n",
       "      <td>C:/Users/Gilberto/Desktop/Gilberto/Projetos/bt...</td>\n",
       "      <td>C:/Users/Gilberto/Desktop/Gilberto/Projetos/bt...</td>\n",
       "      <td>3.000000</td>\n",
       "      <td>3.000000</td>\n",
       "      <td>3.000000</td>\n",
       "      <td>3.000000</td>\n",
       "      <td>7.211103</td>\n",
       "      <td>7.211103</td>\n",
       "      <td>7.211103</td>\n",
       "      <td>...</td>\n",
       "      <td>3.000000</td>\n",
       "      <td>3.000000</td>\n",
       "      <td>3.000000</td>\n",
       "      <td>3.000000</td>\n",
       "      <td>3.000000</td>\n",
       "      <td>3.000000</td>\n",
       "      <td>3.000000</td>\n",
       "      <td>3.000000</td>\n",
       "      <td>3.000000</td>\n",
       "      <td>3.000000</td>\n",
       "    </tr>\n",
       "    <tr>\n",
       "      <th>4</th>\n",
       "      <td>5</td>\n",
       "      <td>C:/Users/Gilberto/Desktop/Gilberto/Projetos/bt...</td>\n",
       "      <td>C:/Users/Gilberto/Desktop/Gilberto/Projetos/bt...</td>\n",
       "      <td>39.115214</td>\n",
       "      <td>39.204592</td>\n",
       "      <td>39.319207</td>\n",
       "      <td>39.458839</td>\n",
       "      <td>39.623226</td>\n",
       "      <td>39.812058</td>\n",
       "      <td>40.024992</td>\n",
       "      <td>...</td>\n",
       "      <td>41.593269</td>\n",
       "      <td>41.593269</td>\n",
       "      <td>40.311289</td>\n",
       "      <td>40.199502</td>\n",
       "      <td>39.115214</td>\n",
       "      <td>39.051248</td>\n",
       "      <td>39.012818</td>\n",
       "      <td>39.000000</td>\n",
       "      <td>39.012818</td>\n",
       "      <td>39.051248</td>\n",
       "    </tr>\n",
       "    <tr>\n",
       "      <th>...</th>\n",
       "      <td>...</td>\n",
       "      <td>...</td>\n",
       "      <td>...</td>\n",
       "      <td>...</td>\n",
       "      <td>...</td>\n",
       "      <td>...</td>\n",
       "      <td>...</td>\n",
       "      <td>...</td>\n",
       "      <td>...</td>\n",
       "      <td>...</td>\n",
       "      <td>...</td>\n",
       "      <td>...</td>\n",
       "      <td>...</td>\n",
       "      <td>...</td>\n",
       "      <td>...</td>\n",
       "      <td>...</td>\n",
       "      <td>...</td>\n",
       "      <td>...</td>\n",
       "      <td>...</td>\n",
       "      <td>...</td>\n",
       "      <td>...</td>\n",
       "    </tr>\n",
       "    <tr>\n",
       "      <th>145</th>\n",
       "      <td>146</td>\n",
       "      <td>C:/Users/Gilberto/Desktop/Gilberto/Projetos/bt...</td>\n",
       "      <td>C:/Users/Gilberto/Desktop/Gilberto/Projetos/bt...</td>\n",
       "      <td>74.060786</td>\n",
       "      <td>74.168727</td>\n",
       "      <td>74.330344</td>\n",
       "      <td>73.552702</td>\n",
       "      <td>73.824115</td>\n",
       "      <td>72.180330</td>\n",
       "      <td>68.447060</td>\n",
       "      <td>...</td>\n",
       "      <td>78.854296</td>\n",
       "      <td>78.447435</td>\n",
       "      <td>78.089692</td>\n",
       "      <td>77.781746</td>\n",
       "      <td>77.524190</td>\n",
       "      <td>77.317527</td>\n",
       "      <td>76.105190</td>\n",
       "      <td>75.059976</td>\n",
       "      <td>74.000000</td>\n",
       "      <td>74.006756</td>\n",
       "    </tr>\n",
       "    <tr>\n",
       "      <th>146</th>\n",
       "      <td>147</td>\n",
       "      <td>C:/Users/Gilberto/Desktop/Gilberto/Projetos/bt...</td>\n",
       "      <td>C:/Users/Gilberto/Desktop/Gilberto/Projetos/bt...</td>\n",
       "      <td>92.048900</td>\n",
       "      <td>91.197588</td>\n",
       "      <td>87.367042</td>\n",
       "      <td>84.480767</td>\n",
       "      <td>81.743501</td>\n",
       "      <td>73.979727</td>\n",
       "      <td>73.348483</td>\n",
       "      <td>...</td>\n",
       "      <td>69.426220</td>\n",
       "      <td>70.035705</td>\n",
       "      <td>70.859015</td>\n",
       "      <td>72.560320</td>\n",
       "      <td>72.443081</td>\n",
       "      <td>73.246160</td>\n",
       "      <td>76.164296</td>\n",
       "      <td>80.056230</td>\n",
       "      <td>86.005814</td>\n",
       "      <td>91.005494</td>\n",
       "    </tr>\n",
       "    <tr>\n",
       "      <th>147</th>\n",
       "      <td>148</td>\n",
       "      <td>C:/Users/Gilberto/Desktop/Gilberto/Projetos/bt...</td>\n",
       "      <td>C:/Users/Gilberto/Desktop/Gilberto/Projetos/bt...</td>\n",
       "      <td>87.051709</td>\n",
       "      <td>87.143560</td>\n",
       "      <td>87.367042</td>\n",
       "      <td>87.572827</td>\n",
       "      <td>86.833173</td>\n",
       "      <td>86.145226</td>\n",
       "      <td>85.510233</td>\n",
       "      <td>...</td>\n",
       "      <td>85.906926</td>\n",
       "      <td>85.510233</td>\n",
       "      <td>86.145226</td>\n",
       "      <td>86.833173</td>\n",
       "      <td>87.572827</td>\n",
       "      <td>87.367042</td>\n",
       "      <td>87.206651</td>\n",
       "      <td>87.051709</td>\n",
       "      <td>87.005747</td>\n",
       "      <td>87.005747</td>\n",
       "    </tr>\n",
       "    <tr>\n",
       "      <th>148</th>\n",
       "      <td>149</td>\n",
       "      <td>C:/Users/Gilberto/Desktop/Gilberto/Projetos/bt...</td>\n",
       "      <td>C:/Users/Gilberto/Desktop/Gilberto/Projetos/bt...</td>\n",
       "      <td>17.262677</td>\n",
       "      <td>17.464249</td>\n",
       "      <td>17.720045</td>\n",
       "      <td>17.720045</td>\n",
       "      <td>18.027756</td>\n",
       "      <td>18.027756</td>\n",
       "      <td>18.384776</td>\n",
       "      <td>...</td>\n",
       "      <td>19.416488</td>\n",
       "      <td>17.117243</td>\n",
       "      <td>17.117243</td>\n",
       "      <td>17.029386</td>\n",
       "      <td>17.029386</td>\n",
       "      <td>17.000000</td>\n",
       "      <td>17.000000</td>\n",
       "      <td>17.029386</td>\n",
       "      <td>17.117243</td>\n",
       "      <td>17.117243</td>\n",
       "    </tr>\n",
       "    <tr>\n",
       "      <th>149</th>\n",
       "      <td>150</td>\n",
       "      <td>C:/Users/Gilberto/Desktop/Gilberto/Projetos/bt...</td>\n",
       "      <td>C:/Users/Gilberto/Desktop/Gilberto/Projetos/bt...</td>\n",
       "      <td>68.066144</td>\n",
       "      <td>68.183576</td>\n",
       "      <td>68.359345</td>\n",
       "      <td>68.468971</td>\n",
       "      <td>68.731361</td>\n",
       "      <td>68.883960</td>\n",
       "      <td>67.268120</td>\n",
       "      <td>...</td>\n",
       "      <td>56.089215</td>\n",
       "      <td>59.841457</td>\n",
       "      <td>63.639610</td>\n",
       "      <td>64.498062</td>\n",
       "      <td>66.370174</td>\n",
       "      <td>68.183576</td>\n",
       "      <td>68.066144</td>\n",
       "      <td>68.029405</td>\n",
       "      <td>68.000000</td>\n",
       "      <td>68.029405</td>\n",
       "    </tr>\n",
       "  </tbody>\n",
       "</table>\n",
       "<p>150 rows × 363 columns</p>\n",
       "</div>"
      ],
      "text/plain": [
       "      id                                               path  \\\n",
       "0      1  C:/Users/Gilberto/Desktop/Gilberto/Projetos/bt...   \n",
       "1      2  C:/Users/Gilberto/Desktop/Gilberto/Projetos/bt...   \n",
       "2      3  C:/Users/Gilberto/Desktop/Gilberto/Projetos/bt...   \n",
       "3      4  C:/Users/Gilberto/Desktop/Gilberto/Projetos/bt...   \n",
       "4      5  C:/Users/Gilberto/Desktop/Gilberto/Projetos/bt...   \n",
       "..   ...                                                ...   \n",
       "145  146  C:/Users/Gilberto/Desktop/Gilberto/Projetos/bt...   \n",
       "146  147  C:/Users/Gilberto/Desktop/Gilberto/Projetos/bt...   \n",
       "147  148  C:/Users/Gilberto/Desktop/Gilberto/Projetos/bt...   \n",
       "148  149  C:/Users/Gilberto/Desktop/Gilberto/Projetos/bt...   \n",
       "149  150  C:/Users/Gilberto/Desktop/Gilberto/Projetos/bt...   \n",
       "\n",
       "                                            slice_path         a_0  \\\n",
       "0    C:/Users/Gilberto/Desktop/Gilberto/Projetos/bt...  109.041277   \n",
       "1    C:/Users/Gilberto/Desktop/Gilberto/Projetos/bt...   62.072538   \n",
       "2    C:/Users/Gilberto/Desktop/Gilberto/Projetos/bt...   91.049437   \n",
       "3    C:/Users/Gilberto/Desktop/Gilberto/Projetos/bt...    3.000000   \n",
       "4    C:/Users/Gilberto/Desktop/Gilberto/Projetos/bt...   39.115214   \n",
       "..                                                 ...         ...   \n",
       "145  C:/Users/Gilberto/Desktop/Gilberto/Projetos/bt...   74.060786   \n",
       "146  C:/Users/Gilberto/Desktop/Gilberto/Projetos/bt...   92.048900   \n",
       "147  C:/Users/Gilberto/Desktop/Gilberto/Projetos/bt...   87.051709   \n",
       "148  C:/Users/Gilberto/Desktop/Gilberto/Projetos/bt...   17.262677   \n",
       "149  C:/Users/Gilberto/Desktop/Gilberto/Projetos/bt...   68.066144   \n",
       "\n",
       "            a_1         a_2         a_3         a_4         a_5         a_6  \\\n",
       "0    113.159180  113.282832  108.558740  106.794195  105.076163  103.406963   \n",
       "1     64.195015   65.375837   66.483081   66.753277   67.082039   67.468511   \n",
       "2     90.088845   89.202018   89.274856   88.459030   87.572827   87.692645   \n",
       "3      3.000000    3.000000    3.000000    7.211103    7.211103    7.211103   \n",
       "4     39.204592   39.319207   39.458839   39.623226   39.812058   40.024992   \n",
       "..          ...         ...         ...         ...         ...         ...   \n",
       "145   74.168727   74.330344   73.552702   73.824115   72.180330   68.447060   \n",
       "146   91.197588   87.367042   84.480767   81.743501   73.979727   73.348483   \n",
       "147   87.143560   87.367042   87.572827   86.833173   86.145226   85.510233   \n",
       "148   17.464249   17.720045   17.720045   18.027756   18.027756   18.384776   \n",
       "149   68.183576   68.359345   68.468971   68.731361   68.883960   67.268120   \n",
       "\n",
       "     ...      a_350       a_351      a_352      a_353      a_354       a_355  \\\n",
       "0    ...  72.532751  102.420701  99.984999  99.724621  99.503769  100.319490   \n",
       "1    ...  66.490601   66.098411  61.660360  60.530984  60.299254   60.207973   \n",
       "2    ...  92.655275   92.541882  92.347171  92.265920  92.135769   92.086915   \n",
       "3    ...   3.000000    3.000000   3.000000   3.000000   3.000000    3.000000   \n",
       "4    ...  41.593269   41.593269  40.311289  40.199502  39.115214   39.051248   \n",
       "..   ...        ...         ...        ...        ...        ...         ...   \n",
       "145  ...  78.854296   78.447435  78.089692  77.781746  77.524190   77.317527   \n",
       "146  ...  69.426220   70.035705  70.859015  72.560320  72.443081   73.246160   \n",
       "147  ...  85.906926   85.510233  86.145226  86.833173  87.572827   87.367042   \n",
       "148  ...  19.416488   17.117243  17.117243  17.029386  17.029386   17.000000   \n",
       "149  ...  56.089215   59.841457  63.639610  64.498062  66.370174   68.183576   \n",
       "\n",
       "          a_356       a_357       a_358       a_359  \n",
       "0    102.176318  104.076895  107.004673  107.004673  \n",
       "1     60.074953   60.033324   60.000000   61.032778  \n",
       "2     92.048900   92.005435   92.005435   92.021737  \n",
       "3      3.000000    3.000000    3.000000    3.000000  \n",
       "4     39.012818   39.000000   39.012818   39.051248  \n",
       "..          ...         ...         ...         ...  \n",
       "145   76.105190   75.059976   74.000000   74.006756  \n",
       "146   76.164296   80.056230   86.005814   91.005494  \n",
       "147   87.206651   87.051709   87.005747   87.005747  \n",
       "148   17.000000   17.029386   17.117243   17.117243  \n",
       "149   68.066144   68.029405   68.000000   68.029405  \n",
       "\n",
       "[150 rows x 363 columns]"
      ]
     },
     "execution_count": 9,
     "metadata": {},
     "output_type": "execute_result"
    }
   ],
   "source": [
    "time_series = pd.read_csv('time_series_1.csv')\n",
    "time_series"
   ]
  },
  {
   "cell_type": "code",
   "execution_count": 14,
   "id": "17640271",
   "metadata": {},
   "outputs": [
    {
     "data": {
      "text/plain": [
       "array([[109.04127659, 113.15917992, 113.28283189, ..., 104.07689465,\n",
       "        107.0046728 , 107.0046728 ],\n",
       "       [ 62.07253821,  64.19501538,  65.37583651, ...,  60.03332408,\n",
       "         60.        ,  61.03277808],\n",
       "       [ 91.04943712,  90.08884504,  89.20201791, ...,  92.00543462,\n",
       "         92.00543462,  92.02173656],\n",
       "       ...,\n",
       "       [ 87.05170877,  87.14355972,  87.36704184, ...,  87.05170877,\n",
       "         87.00574694,  87.00574694],\n",
       "       [ 17.2626765 ,  17.4642492 ,  17.72004515, ...,  17.02938637,\n",
       "         17.11724277,  17.11724277],\n",
       "       [ 68.0661443 ,  68.18357573,  68.35934464, ...,  68.02940541,\n",
       "         68.        ,  68.02940541]])"
      ]
     },
     "execution_count": 14,
     "metadata": {},
     "output_type": "execute_result"
    }
   ],
   "source": [
    "X = time_series.drop(['id', 'path', 'slice_path'], axis=1).values\n",
    "X"
   ]
  },
  {
   "cell_type": "code",
   "execution_count": 17,
   "id": "1a61f728",
   "metadata": {},
   "outputs": [
    {
     "name": "stdout",
     "output_type": "stream",
     "text": [
      "UMAP(low_memory=False, min_dist=0.0, n_neighbors=5, verbose=True)\n",
      "Mon Dec 13 11:06:29 2021 Construct fuzzy simplicial set\n",
      "Mon Dec 13 11:06:29 2021 Finding Nearest Neighbors\n",
      "Mon Dec 13 11:06:29 2021 Finished Nearest Neighbor Search\n",
      "Mon Dec 13 11:06:29 2021 Construct embedding\n"
     ]
    },
    {
     "data": {
      "application/vnd.jupyter.widget-view+json": {
       "model_id": "ac0937891437424b8d3c0d4a5f908c2a",
       "version_major": 2,
       "version_minor": 0
      },
      "text/plain": [
       "Epochs completed:   0%|            0/500 [00:00]"
      ]
     },
     "metadata": {},
     "output_type": "display_data"
    },
    {
     "name": "stdout",
     "output_type": "stream",
     "text": [
      "Mon Dec 13 11:06:31 2021 Finished embedding\n"
     ]
    },
    {
     "data": {
      "text/plain": [
       "array([[ 8.964116  ,  9.046942  ],\n",
       "       [ 8.168093  ,  5.267899  ],\n",
       "       [ 7.244273  ,  1.8374958 ],\n",
       "       [-0.40879777,  3.9500277 ],\n",
       "       [ 6.1369944 ,  1.2442316 ],\n",
       "       [ 7.6077576 ,  4.583466  ],\n",
       "       [ 7.46354   ,  7.1931067 ],\n",
       "       [ 5.9374223 ,  1.4400809 ],\n",
       "       [ 8.75471   ,  7.8666525 ],\n",
       "       [ 6.781863  ,  1.3060969 ],\n",
       "       [ 5.532466  ,  0.9241701 ],\n",
       "       [-0.64730304,  4.208728  ],\n",
       "       [-0.4503056 ,  3.991813  ],\n",
       "       [ 3.5478396 ,  0.22444649],\n",
       "       [ 6.0388875 ,  1.3451548 ],\n",
       "       [ 9.249192  ,  9.218694  ],\n",
       "       [ 8.717455  ,  7.8899865 ],\n",
       "       [ 7.755082  ,  6.0009027 ],\n",
       "       [ 8.128316  ,  6.08578   ],\n",
       "       [ 8.69767   ,  6.2885127 ],\n",
       "       [ 8.28186   ,  5.870441  ],\n",
       "       [ 7.1303196 ,  3.1852243 ],\n",
       "       [ 3.6325963 ,  0.18542697],\n",
       "       [ 8.056633  ,  7.724879  ],\n",
       "       [ 6.515837  ,  1.4371794 ],\n",
       "       [ 7.62847   ,  7.351777  ],\n",
       "       [ 0.25569224,  3.1282024 ],\n",
       "       [ 8.525294  ,  6.725246  ],\n",
       "       [ 9.191793  ,  9.080648  ],\n",
       "       [ 9.352736  ,  9.486824  ],\n",
       "       [ 7.399458  ,  3.2562342 ],\n",
       "       [ 5.9413724 ,  1.6535128 ],\n",
       "       [ 6.099066  ,  1.2420894 ],\n",
       "       [ 4.1071353 ,  0.38499358],\n",
       "       [ 8.6975565 ,  7.221783  ],\n",
       "       [-0.21159801,  3.7095635 ],\n",
       "       [ 7.6483364 ,  4.107431  ],\n",
       "       [ 7.4851274 ,  6.7007093 ],\n",
       "       [ 7.2701783 ,  6.426228  ],\n",
       "       [ 0.20348883,  3.1817381 ],\n",
       "       [ 9.460246  ,  9.743692  ],\n",
       "       [ 7.912303  ,  5.086166  ],\n",
       "       [ 9.612414  ,  9.898857  ],\n",
       "       [-0.61189514,  4.1712713 ],\n",
       "       [ 4.8766336 ,  0.06296808],\n",
       "       [ 9.316516  ,  9.469058  ],\n",
       "       [ 8.794725  ,  7.431833  ],\n",
       "       [ 5.1121674 ,  0.16984883],\n",
       "       [ 4.456833  , -0.01982393],\n",
       "       [ 7.4260178 ,  7.129378  ],\n",
       "       [ 8.755485  ,  7.965494  ],\n",
       "       [ 6.8893547 ,  3.0558977 ],\n",
       "       [ 9.37675   ,  7.1510615 ],\n",
       "       [ 9.349095  ,  7.78955   ],\n",
       "       [ 8.75664   ,  6.1777625 ],\n",
       "       [ 8.778235  ,  9.411534  ],\n",
       "       [ 9.125493  ,  8.296632  ],\n",
       "       [ 9.419035  ,  7.5024343 ],\n",
       "       [ 7.637083  ,  5.4969544 ],\n",
       "       [-0.6396888 ,  4.2003202 ],\n",
       "       [ 7.086728  ,  2.1129792 ],\n",
       "       [ 8.81736   ,  9.31177   ],\n",
       "       [ 6.988796  ,  1.131805  ],\n",
       "       [ 6.877269  ,  3.0335076 ],\n",
       "       [ 7.8749585 ,  5.5198493 ],\n",
       "       [ 6.4739666 ,  1.326338  ],\n",
       "       [-0.12955548,  3.6022742 ],\n",
       "       [ 9.264715  ,  6.825319  ],\n",
       "       [ 9.573255  ,  9.834401  ],\n",
       "       [ 8.348588  ,  5.916435  ],\n",
       "       [ 5.5361557 ,  0.96329445],\n",
       "       [ 8.679354  ,  5.78944   ],\n",
       "       [ 8.185095  ,  5.346071  ],\n",
       "       [ 9.236817  ,  6.8879447 ],\n",
       "       [ 8.634993  ,  7.886802  ],\n",
       "       [ 7.012421  ,  1.1072029 ],\n",
       "       [ 9.260419  ,  6.781166  ],\n",
       "       [ 8.579879  ,  7.3652234 ],\n",
       "       [ 8.626478  ,  6.134549  ],\n",
       "       [ 3.5288837 ,  0.23401621],\n",
       "       [ 9.00675   ,  9.543887  ],\n",
       "       [ 4.263492  ,  0.50475484],\n",
       "       [ 7.232081  ,  1.7199144 ],\n",
       "       [ 9.426317  ,  7.112032  ],\n",
       "       [ 4.2239428 ,  0.0394083 ],\n",
       "       [ 7.72284   ,  4.0495253 ],\n",
       "       [ 7.6832023 ,  3.965055  ],\n",
       "       [ 5.3479357 ,  1.8558236 ],\n",
       "       [ 5.1917276 ,  0.7400017 ],\n",
       "       [ 7.382636  ,  5.643307  ],\n",
       "       [ 6.714791  ,  2.3059597 ],\n",
       "       [ 7.533209  ,  5.13742   ],\n",
       "       [-0.5844306 ,  4.1420417 ],\n",
       "       [ 7.726554  ,  4.0295806 ],\n",
       "       [ 7.497159  ,  5.3372903 ],\n",
       "       [ 9.160793  ,  9.577386  ],\n",
       "       [ 0.2595346 ,  3.126901  ],\n",
       "       [ 7.4087977 ,  3.540639  ],\n",
       "       [ 9.136446  ,  8.251779  ],\n",
       "       [ 8.586289  ,  6.0445075 ],\n",
       "       [ 9.083723  ,  6.581033  ],\n",
       "       [ 4.230838  , -0.02467168],\n",
       "       [ 7.4239464 ,  7.1266456 ],\n",
       "       [-0.21294749,  3.7050855 ],\n",
       "       [ 5.642133  ,  1.4389781 ],\n",
       "       [ 7.9238844 ,  7.633307  ],\n",
       "       [ 6.398261  ,  1.5721669 ],\n",
       "       [ 5.1012907 ,  0.192349  ],\n",
       "       [ 8.513838  ,  7.943615  ],\n",
       "       [ 5.399033  ,  0.9013843 ],\n",
       "       [ 7.6786375 ,  5.9207044 ],\n",
       "       [ 3.5704026 ,  0.20543844],\n",
       "       [ 6.6225734 ,  0.758248  ],\n",
       "       [ 9.135898  ,  7.9947963 ],\n",
       "       [ 7.5293565 ,  4.777777  ],\n",
       "       [-0.6504751 ,  4.2108536 ],\n",
       "       [ 0.16891994,  3.2234561 ],\n",
       "       [ 6.9313912 ,  2.524781  ],\n",
       "       [ 7.2496004 ,  6.473131  ],\n",
       "       [ 7.1647506 ,  3.2774968 ],\n",
       "       [ 6.8926897 ,  1.8463596 ],\n",
       "       [ 3.4212337 ,  0.437038  ],\n",
       "       [ 9.537752  ,  9.818567  ],\n",
       "       [-0.31656107,  3.830833  ],\n",
       "       [ 6.670819  ,  2.2658901 ],\n",
       "       [ 4.178034  ,  0.43178517],\n",
       "       [ 3.966627  , -0.04598119],\n",
       "       [ 7.0817323 ,  3.176814  ],\n",
       "       [ 8.896666  ,  9.453781  ],\n",
       "       [ 6.8549476 ,  1.005085  ],\n",
       "       [ 5.6400404 ,  0.796003  ],\n",
       "       [ 8.745058  ,  5.9087815 ],\n",
       "       [ 7.643075  ,  4.9779196 ],\n",
       "       [ 7.5663924 ,  4.384882  ],\n",
       "       [ 6.7083435 ,  2.2941337 ],\n",
       "       [ 4.2130475 , -0.03121573],\n",
       "       [ 6.8098607 ,  2.0708604 ],\n",
       "       [ 7.6600084 ,  4.798016  ],\n",
       "       [ 4.4030557 ,  0.05652151],\n",
       "       [ 5.4401107 ,  1.7636847 ],\n",
       "       [-0.3309518 ,  3.8451877 ],\n",
       "       [ 6.589299  ,  1.9203504 ],\n",
       "       [ 8.58299   ,  6.8100576 ],\n",
       "       [ 5.658182  ,  0.83038276],\n",
       "       [ 7.3838058 ,  7.067587  ],\n",
       "       [ 7.9828696 ,  4.853349  ],\n",
       "       [ 8.532744  ,  6.7528515 ],\n",
       "       [ 9.1180105 ,  9.564942  ],\n",
       "       [ 3.4391057 ,  0.3898745 ],\n",
       "       [ 7.993741  ,  7.6809454 ]], dtype=float32)"
      ]
     },
     "execution_count": 17,
     "metadata": {},
     "output_type": "execute_result"
    }
   ],
   "source": [
    "umap_model = umap.UMAP(n_neighbors=5,\n",
    "                       n_components=2,\n",
    "                       min_dist=0.0,\n",
    "                       metric='euclidean',\n",
    "                       low_memory=False,\n",
    "                       verbose=True)\n",
    "\n",
    "reduced_X = umap_model.fit_transform(X)\n",
    "reduced_X"
   ]
  },
  {
   "cell_type": "code",
   "execution_count": 36,
   "id": "a3fda4e9",
   "metadata": {},
   "outputs": [
    {
     "data": {
      "text/html": [
       "<div>\n",
       "<style scoped>\n",
       "    .dataframe tbody tr th:only-of-type {\n",
       "        vertical-align: middle;\n",
       "    }\n",
       "\n",
       "    .dataframe tbody tr th {\n",
       "        vertical-align: top;\n",
       "    }\n",
       "\n",
       "    .dataframe thead th {\n",
       "        text-align: right;\n",
       "    }\n",
       "</style>\n",
       "<table border=\"1\" class=\"dataframe\">\n",
       "  <thead>\n",
       "    <tr style=\"text-align: right;\">\n",
       "      <th></th>\n",
       "      <th>id</th>\n",
       "      <th>group</th>\n",
       "      <th>proba</th>\n",
       "      <th>x0</th>\n",
       "      <th>x1</th>\n",
       "    </tr>\n",
       "  </thead>\n",
       "  <tbody>\n",
       "    <tr>\n",
       "      <th>0</th>\n",
       "      <td>1</td>\n",
       "      <td>-1</td>\n",
       "      <td>0.000000</td>\n",
       "      <td>8.964116</td>\n",
       "      <td>9.046942</td>\n",
       "    </tr>\n",
       "    <tr>\n",
       "      <th>1</th>\n",
       "      <td>2</td>\n",
       "      <td>-1</td>\n",
       "      <td>0.000000</td>\n",
       "      <td>8.168093</td>\n",
       "      <td>5.267899</td>\n",
       "    </tr>\n",
       "    <tr>\n",
       "      <th>2</th>\n",
       "      <td>3</td>\n",
       "      <td>-1</td>\n",
       "      <td>0.000000</td>\n",
       "      <td>7.244273</td>\n",
       "      <td>1.837496</td>\n",
       "    </tr>\n",
       "    <tr>\n",
       "      <th>3</th>\n",
       "      <td>4</td>\n",
       "      <td>2</td>\n",
       "      <td>1.000000</td>\n",
       "      <td>-0.408798</td>\n",
       "      <td>3.950028</td>\n",
       "    </tr>\n",
       "    <tr>\n",
       "      <th>4</th>\n",
       "      <td>5</td>\n",
       "      <td>1</td>\n",
       "      <td>0.778977</td>\n",
       "      <td>6.136994</td>\n",
       "      <td>1.244232</td>\n",
       "    </tr>\n",
       "    <tr>\n",
       "      <th>...</th>\n",
       "      <td>...</td>\n",
       "      <td>...</td>\n",
       "      <td>...</td>\n",
       "      <td>...</td>\n",
       "      <td>...</td>\n",
       "    </tr>\n",
       "    <tr>\n",
       "      <th>145</th>\n",
       "      <td>146</td>\n",
       "      <td>1</td>\n",
       "      <td>0.827414</td>\n",
       "      <td>7.982870</td>\n",
       "      <td>4.853349</td>\n",
       "    </tr>\n",
       "    <tr>\n",
       "      <th>146</th>\n",
       "      <td>147</td>\n",
       "      <td>-1</td>\n",
       "      <td>0.000000</td>\n",
       "      <td>8.532744</td>\n",
       "      <td>6.752851</td>\n",
       "    </tr>\n",
       "    <tr>\n",
       "      <th>147</th>\n",
       "      <td>148</td>\n",
       "      <td>0</td>\n",
       "      <td>0.789219</td>\n",
       "      <td>9.118011</td>\n",
       "      <td>9.564942</td>\n",
       "    </tr>\n",
       "    <tr>\n",
       "      <th>148</th>\n",
       "      <td>149</td>\n",
       "      <td>-1</td>\n",
       "      <td>0.000000</td>\n",
       "      <td>3.439106</td>\n",
       "      <td>0.389874</td>\n",
       "    </tr>\n",
       "    <tr>\n",
       "      <th>149</th>\n",
       "      <td>150</td>\n",
       "      <td>-1</td>\n",
       "      <td>0.000000</td>\n",
       "      <td>7.993741</td>\n",
       "      <td>7.680945</td>\n",
       "    </tr>\n",
       "  </tbody>\n",
       "</table>\n",
       "<p>150 rows × 5 columns</p>\n",
       "</div>"
      ],
      "text/plain": [
       "      id  group     proba        x0        x1\n",
       "0      1     -1  0.000000  8.964116  9.046942\n",
       "1      2     -1  0.000000  8.168093  5.267899\n",
       "2      3     -1  0.000000  7.244273  1.837496\n",
       "3      4      2  1.000000 -0.408798  3.950028\n",
       "4      5      1  0.778977  6.136994  1.244232\n",
       "..   ...    ...       ...       ...       ...\n",
       "145  146      1  0.827414  7.982870  4.853349\n",
       "146  147     -1  0.000000  8.532744  6.752851\n",
       "147  148      0  0.789219  9.118011  9.564942\n",
       "148  149     -1  0.000000  3.439106  0.389874\n",
       "149  150     -1  0.000000  7.993741  7.680945\n",
       "\n",
       "[150 rows x 5 columns]"
      ]
     },
     "execution_count": 36,
     "metadata": {},
     "output_type": "execute_result"
    }
   ],
   "source": [
    "results['x0'] = reduced_X[:, 0]\n",
    "results['x1'] = reduced_X[:, 1]\n",
    "results"
   ]
  },
  {
   "cell_type": "code",
   "execution_count": 29,
   "id": "c29de801",
   "metadata": {},
   "outputs": [
    {
     "data": {
      "application/vnd.plotly.v1+json": {
       "config": {
        "plotlyServerURL": "https://plot.ly"
       },
       "data": [
        {
         "hovertemplate": "group=2<br>x0=%{x}<br>x1=%{y}<extra></extra>",
         "legendgroup": "2",
         "marker": {
          "color": "#1F77B4",
          "symbol": "circle"
         },
         "mode": "markers",
         "name": "2",
         "orientation": "v",
         "showlegend": true,
         "type": "scatter",
         "x": [
          -0.4087977707386017,
          -0.45030561089515686,
          -0.2115980088710785,
          -0.6118951439857483,
          -0.5844305753707886,
          -0.21294748783111572,
          -0.3309518098831177
         ],
         "xaxis": "x",
         "y": [
          3.9500277042388916,
          3.9918129444122314,
          3.7095634937286377,
          4.171271324157715,
          4.1420416831970215,
          3.705085515975952,
          3.8451876640319824
         ],
         "yaxis": "y"
        },
        {
         "hovertemplate": "group=0<br>x0=%{x}<br>x1=%{y}<extra></extra>",
         "legendgroup": "0",
         "marker": {
          "color": "#FF7F0E",
          "symbol": "circle"
         },
         "mode": "markers",
         "name": "0",
         "orientation": "v",
         "showlegend": true,
         "type": "scatter",
         "x": [
          8.75471019744873,
          8.71745491027832,
          9.316515922546387,
          8.79472541809082,
          8.513837814331055
         ],
         "xaxis": "x",
         "y": [
          7.866652488708496,
          7.889986515045166,
          9.4690580368042,
          7.431832790374756,
          7.943614959716797
         ],
         "yaxis": "y"
        },
        {
         "hovertemplate": "group=1<br>x0=%{x}<br>x1=%{y}<extra></extra>",
         "legendgroup": "1",
         "marker": {
          "color": "#2CA02C",
          "symbol": "circle"
         },
         "mode": "markers",
         "name": "1",
         "orientation": "v",
         "showlegend": true,
         "type": "scatter",
         "x": [
          6.781863212585449,
          5.532465934753418,
          6.0388875007629395,
          6.5158371925354,
          5.941372394561768,
          5.536155700683594,
          7.012421131134033,
          6.398261070251465,
          7.081732273101807,
          5.658182144165039
         ],
         "xaxis": "x",
         "y": [
          1.3060969114303589,
          0.9241700768470764,
          1.3451547622680664,
          1.437179446220398,
          1.6535128355026245,
          0.9632944464683533,
          1.1072028875350952,
          1.572166919708252,
          3.176814079284668,
          0.830382764339447
         ],
         "yaxis": "y"
        }
       ],
       "layout": {
        "legend": {
         "title": {
          "text": "group"
         },
         "tracegroupgap": 0
        },
        "margin": {
         "t": 60
        },
        "template": {
         "data": {
          "bar": [
           {
            "error_x": {
             "color": "rgb(36,36,36)"
            },
            "error_y": {
             "color": "rgb(36,36,36)"
            },
            "marker": {
             "line": {
              "color": "white",
              "width": 0.5
             },
             "pattern": {
              "fillmode": "overlay",
              "size": 10,
              "solidity": 0.2
             }
            },
            "type": "bar"
           }
          ],
          "barpolar": [
           {
            "marker": {
             "line": {
              "color": "white",
              "width": 0.5
             },
             "pattern": {
              "fillmode": "overlay",
              "size": 10,
              "solidity": 0.2
             }
            },
            "type": "barpolar"
           }
          ],
          "carpet": [
           {
            "aaxis": {
             "endlinecolor": "rgb(36,36,36)",
             "gridcolor": "white",
             "linecolor": "white",
             "minorgridcolor": "white",
             "startlinecolor": "rgb(36,36,36)"
            },
            "baxis": {
             "endlinecolor": "rgb(36,36,36)",
             "gridcolor": "white",
             "linecolor": "white",
             "minorgridcolor": "white",
             "startlinecolor": "rgb(36,36,36)"
            },
            "type": "carpet"
           }
          ],
          "choropleth": [
           {
            "colorbar": {
             "outlinewidth": 1,
             "tickcolor": "rgb(36,36,36)",
             "ticks": "outside"
            },
            "type": "choropleth"
           }
          ],
          "contour": [
           {
            "colorbar": {
             "outlinewidth": 1,
             "tickcolor": "rgb(36,36,36)",
             "ticks": "outside"
            },
            "colorscale": [
             [
              0,
              "#440154"
             ],
             [
              0.1111111111111111,
              "#482878"
             ],
             [
              0.2222222222222222,
              "#3e4989"
             ],
             [
              0.3333333333333333,
              "#31688e"
             ],
             [
              0.4444444444444444,
              "#26828e"
             ],
             [
              0.5555555555555556,
              "#1f9e89"
             ],
             [
              0.6666666666666666,
              "#35b779"
             ],
             [
              0.7777777777777778,
              "#6ece58"
             ],
             [
              0.8888888888888888,
              "#b5de2b"
             ],
             [
              1,
              "#fde725"
             ]
            ],
            "type": "contour"
           }
          ],
          "contourcarpet": [
           {
            "colorbar": {
             "outlinewidth": 1,
             "tickcolor": "rgb(36,36,36)",
             "ticks": "outside"
            },
            "type": "contourcarpet"
           }
          ],
          "heatmap": [
           {
            "colorbar": {
             "outlinewidth": 1,
             "tickcolor": "rgb(36,36,36)",
             "ticks": "outside"
            },
            "colorscale": [
             [
              0,
              "#440154"
             ],
             [
              0.1111111111111111,
              "#482878"
             ],
             [
              0.2222222222222222,
              "#3e4989"
             ],
             [
              0.3333333333333333,
              "#31688e"
             ],
             [
              0.4444444444444444,
              "#26828e"
             ],
             [
              0.5555555555555556,
              "#1f9e89"
             ],
             [
              0.6666666666666666,
              "#35b779"
             ],
             [
              0.7777777777777778,
              "#6ece58"
             ],
             [
              0.8888888888888888,
              "#b5de2b"
             ],
             [
              1,
              "#fde725"
             ]
            ],
            "type": "heatmap"
           }
          ],
          "heatmapgl": [
           {
            "colorbar": {
             "outlinewidth": 1,
             "tickcolor": "rgb(36,36,36)",
             "ticks": "outside"
            },
            "colorscale": [
             [
              0,
              "#440154"
             ],
             [
              0.1111111111111111,
              "#482878"
             ],
             [
              0.2222222222222222,
              "#3e4989"
             ],
             [
              0.3333333333333333,
              "#31688e"
             ],
             [
              0.4444444444444444,
              "#26828e"
             ],
             [
              0.5555555555555556,
              "#1f9e89"
             ],
             [
              0.6666666666666666,
              "#35b779"
             ],
             [
              0.7777777777777778,
              "#6ece58"
             ],
             [
              0.8888888888888888,
              "#b5de2b"
             ],
             [
              1,
              "#fde725"
             ]
            ],
            "type": "heatmapgl"
           }
          ],
          "histogram": [
           {
            "marker": {
             "line": {
              "color": "white",
              "width": 0.6
             }
            },
            "type": "histogram"
           }
          ],
          "histogram2d": [
           {
            "colorbar": {
             "outlinewidth": 1,
             "tickcolor": "rgb(36,36,36)",
             "ticks": "outside"
            },
            "colorscale": [
             [
              0,
              "#440154"
             ],
             [
              0.1111111111111111,
              "#482878"
             ],
             [
              0.2222222222222222,
              "#3e4989"
             ],
             [
              0.3333333333333333,
              "#31688e"
             ],
             [
              0.4444444444444444,
              "#26828e"
             ],
             [
              0.5555555555555556,
              "#1f9e89"
             ],
             [
              0.6666666666666666,
              "#35b779"
             ],
             [
              0.7777777777777778,
              "#6ece58"
             ],
             [
              0.8888888888888888,
              "#b5de2b"
             ],
             [
              1,
              "#fde725"
             ]
            ],
            "type": "histogram2d"
           }
          ],
          "histogram2dcontour": [
           {
            "colorbar": {
             "outlinewidth": 1,
             "tickcolor": "rgb(36,36,36)",
             "ticks": "outside"
            },
            "colorscale": [
             [
              0,
              "#440154"
             ],
             [
              0.1111111111111111,
              "#482878"
             ],
             [
              0.2222222222222222,
              "#3e4989"
             ],
             [
              0.3333333333333333,
              "#31688e"
             ],
             [
              0.4444444444444444,
              "#26828e"
             ],
             [
              0.5555555555555556,
              "#1f9e89"
             ],
             [
              0.6666666666666666,
              "#35b779"
             ],
             [
              0.7777777777777778,
              "#6ece58"
             ],
             [
              0.8888888888888888,
              "#b5de2b"
             ],
             [
              1,
              "#fde725"
             ]
            ],
            "type": "histogram2dcontour"
           }
          ],
          "mesh3d": [
           {
            "colorbar": {
             "outlinewidth": 1,
             "tickcolor": "rgb(36,36,36)",
             "ticks": "outside"
            },
            "type": "mesh3d"
           }
          ],
          "parcoords": [
           {
            "line": {
             "colorbar": {
              "outlinewidth": 1,
              "tickcolor": "rgb(36,36,36)",
              "ticks": "outside"
             }
            },
            "type": "parcoords"
           }
          ],
          "pie": [
           {
            "automargin": true,
            "type": "pie"
           }
          ],
          "scatter": [
           {
            "marker": {
             "colorbar": {
              "outlinewidth": 1,
              "tickcolor": "rgb(36,36,36)",
              "ticks": "outside"
             }
            },
            "type": "scatter"
           }
          ],
          "scatter3d": [
           {
            "line": {
             "colorbar": {
              "outlinewidth": 1,
              "tickcolor": "rgb(36,36,36)",
              "ticks": "outside"
             }
            },
            "marker": {
             "colorbar": {
              "outlinewidth": 1,
              "tickcolor": "rgb(36,36,36)",
              "ticks": "outside"
             }
            },
            "type": "scatter3d"
           }
          ],
          "scattercarpet": [
           {
            "marker": {
             "colorbar": {
              "outlinewidth": 1,
              "tickcolor": "rgb(36,36,36)",
              "ticks": "outside"
             }
            },
            "type": "scattercarpet"
           }
          ],
          "scattergeo": [
           {
            "marker": {
             "colorbar": {
              "outlinewidth": 1,
              "tickcolor": "rgb(36,36,36)",
              "ticks": "outside"
             }
            },
            "type": "scattergeo"
           }
          ],
          "scattergl": [
           {
            "marker": {
             "colorbar": {
              "outlinewidth": 1,
              "tickcolor": "rgb(36,36,36)",
              "ticks": "outside"
             }
            },
            "type": "scattergl"
           }
          ],
          "scattermapbox": [
           {
            "marker": {
             "colorbar": {
              "outlinewidth": 1,
              "tickcolor": "rgb(36,36,36)",
              "ticks": "outside"
             }
            },
            "type": "scattermapbox"
           }
          ],
          "scatterpolar": [
           {
            "marker": {
             "colorbar": {
              "outlinewidth": 1,
              "tickcolor": "rgb(36,36,36)",
              "ticks": "outside"
             }
            },
            "type": "scatterpolar"
           }
          ],
          "scatterpolargl": [
           {
            "marker": {
             "colorbar": {
              "outlinewidth": 1,
              "tickcolor": "rgb(36,36,36)",
              "ticks": "outside"
             }
            },
            "type": "scatterpolargl"
           }
          ],
          "scatterternary": [
           {
            "marker": {
             "colorbar": {
              "outlinewidth": 1,
              "tickcolor": "rgb(36,36,36)",
              "ticks": "outside"
             }
            },
            "type": "scatterternary"
           }
          ],
          "surface": [
           {
            "colorbar": {
             "outlinewidth": 1,
             "tickcolor": "rgb(36,36,36)",
             "ticks": "outside"
            },
            "colorscale": [
             [
              0,
              "#440154"
             ],
             [
              0.1111111111111111,
              "#482878"
             ],
             [
              0.2222222222222222,
              "#3e4989"
             ],
             [
              0.3333333333333333,
              "#31688e"
             ],
             [
              0.4444444444444444,
              "#26828e"
             ],
             [
              0.5555555555555556,
              "#1f9e89"
             ],
             [
              0.6666666666666666,
              "#35b779"
             ],
             [
              0.7777777777777778,
              "#6ece58"
             ],
             [
              0.8888888888888888,
              "#b5de2b"
             ],
             [
              1,
              "#fde725"
             ]
            ],
            "type": "surface"
           }
          ],
          "table": [
           {
            "cells": {
             "fill": {
              "color": "rgb(237,237,237)"
             },
             "line": {
              "color": "white"
             }
            },
            "header": {
             "fill": {
              "color": "rgb(217,217,217)"
             },
             "line": {
              "color": "white"
             }
            },
            "type": "table"
           }
          ]
         },
         "layout": {
          "annotationdefaults": {
           "arrowhead": 0,
           "arrowwidth": 1
          },
          "autotypenumbers": "strict",
          "coloraxis": {
           "colorbar": {
            "outlinewidth": 1,
            "tickcolor": "rgb(36,36,36)",
            "ticks": "outside"
           }
          },
          "colorscale": {
           "diverging": [
            [
             0,
             "rgb(103,0,31)"
            ],
            [
             0.1,
             "rgb(178,24,43)"
            ],
            [
             0.2,
             "rgb(214,96,77)"
            ],
            [
             0.3,
             "rgb(244,165,130)"
            ],
            [
             0.4,
             "rgb(253,219,199)"
            ],
            [
             0.5,
             "rgb(247,247,247)"
            ],
            [
             0.6,
             "rgb(209,229,240)"
            ],
            [
             0.7,
             "rgb(146,197,222)"
            ],
            [
             0.8,
             "rgb(67,147,195)"
            ],
            [
             0.9,
             "rgb(33,102,172)"
            ],
            [
             1,
             "rgb(5,48,97)"
            ]
           ],
           "sequential": [
            [
             0,
             "#440154"
            ],
            [
             0.1111111111111111,
             "#482878"
            ],
            [
             0.2222222222222222,
             "#3e4989"
            ],
            [
             0.3333333333333333,
             "#31688e"
            ],
            [
             0.4444444444444444,
             "#26828e"
            ],
            [
             0.5555555555555556,
             "#1f9e89"
            ],
            [
             0.6666666666666666,
             "#35b779"
            ],
            [
             0.7777777777777778,
             "#6ece58"
            ],
            [
             0.8888888888888888,
             "#b5de2b"
            ],
            [
             1,
             "#fde725"
            ]
           ],
           "sequentialminus": [
            [
             0,
             "#440154"
            ],
            [
             0.1111111111111111,
             "#482878"
            ],
            [
             0.2222222222222222,
             "#3e4989"
            ],
            [
             0.3333333333333333,
             "#31688e"
            ],
            [
             0.4444444444444444,
             "#26828e"
            ],
            [
             0.5555555555555556,
             "#1f9e89"
            ],
            [
             0.6666666666666666,
             "#35b779"
            ],
            [
             0.7777777777777778,
             "#6ece58"
            ],
            [
             0.8888888888888888,
             "#b5de2b"
            ],
            [
             1,
             "#fde725"
            ]
           ]
          },
          "colorway": [
           "#1F77B4",
           "#FF7F0E",
           "#2CA02C",
           "#D62728",
           "#9467BD",
           "#8C564B",
           "#E377C2",
           "#7F7F7F",
           "#BCBD22",
           "#17BECF"
          ],
          "font": {
           "color": "rgb(36,36,36)"
          },
          "geo": {
           "bgcolor": "white",
           "lakecolor": "white",
           "landcolor": "white",
           "showlakes": true,
           "showland": true,
           "subunitcolor": "white"
          },
          "hoverlabel": {
           "align": "left"
          },
          "hovermode": "closest",
          "mapbox": {
           "style": "light"
          },
          "paper_bgcolor": "white",
          "plot_bgcolor": "white",
          "polar": {
           "angularaxis": {
            "gridcolor": "rgb(232,232,232)",
            "linecolor": "rgb(36,36,36)",
            "showgrid": false,
            "showline": true,
            "ticks": "outside"
           },
           "bgcolor": "white",
           "radialaxis": {
            "gridcolor": "rgb(232,232,232)",
            "linecolor": "rgb(36,36,36)",
            "showgrid": false,
            "showline": true,
            "ticks": "outside"
           }
          },
          "scene": {
           "xaxis": {
            "backgroundcolor": "white",
            "gridcolor": "rgb(232,232,232)",
            "gridwidth": 2,
            "linecolor": "rgb(36,36,36)",
            "showbackground": true,
            "showgrid": false,
            "showline": true,
            "ticks": "outside",
            "zeroline": false,
            "zerolinecolor": "rgb(36,36,36)"
           },
           "yaxis": {
            "backgroundcolor": "white",
            "gridcolor": "rgb(232,232,232)",
            "gridwidth": 2,
            "linecolor": "rgb(36,36,36)",
            "showbackground": true,
            "showgrid": false,
            "showline": true,
            "ticks": "outside",
            "zeroline": false,
            "zerolinecolor": "rgb(36,36,36)"
           },
           "zaxis": {
            "backgroundcolor": "white",
            "gridcolor": "rgb(232,232,232)",
            "gridwidth": 2,
            "linecolor": "rgb(36,36,36)",
            "showbackground": true,
            "showgrid": false,
            "showline": true,
            "ticks": "outside",
            "zeroline": false,
            "zerolinecolor": "rgb(36,36,36)"
           }
          },
          "shapedefaults": {
           "fillcolor": "black",
           "line": {
            "width": 0
           },
           "opacity": 0.3
          },
          "ternary": {
           "aaxis": {
            "gridcolor": "rgb(232,232,232)",
            "linecolor": "rgb(36,36,36)",
            "showgrid": false,
            "showline": true,
            "ticks": "outside"
           },
           "baxis": {
            "gridcolor": "rgb(232,232,232)",
            "linecolor": "rgb(36,36,36)",
            "showgrid": false,
            "showline": true,
            "ticks": "outside"
           },
           "bgcolor": "white",
           "caxis": {
            "gridcolor": "rgb(232,232,232)",
            "linecolor": "rgb(36,36,36)",
            "showgrid": false,
            "showline": true,
            "ticks": "outside"
           }
          },
          "title": {
           "x": 0.05
          },
          "xaxis": {
           "automargin": true,
           "gridcolor": "rgb(232,232,232)",
           "linecolor": "rgb(36,36,36)",
           "showgrid": false,
           "showline": true,
           "ticks": "outside",
           "title": {
            "standoff": 15
           },
           "zeroline": false,
           "zerolinecolor": "rgb(36,36,36)"
          },
          "yaxis": {
           "automargin": true,
           "gridcolor": "rgb(232,232,232)",
           "linecolor": "rgb(36,36,36)",
           "showgrid": false,
           "showline": true,
           "ticks": "outside",
           "title": {
            "standoff": 15
           },
           "zeroline": false,
           "zerolinecolor": "rgb(36,36,36)"
          }
         }
        },
        "xaxis": {
         "anchor": "y",
         "domain": [
          0,
          1
         ],
         "title": {
          "text": "x0"
         }
        },
        "yaxis": {
         "anchor": "x",
         "domain": [
          0,
          1
         ],
         "title": {
          "text": "x1"
         }
        }
       }
      },
      "text/html": [
       "<div>                            <div id=\"753c25bd-4ba4-456a-b144-e7637b5b507a\" class=\"plotly-graph-div\" style=\"height:525px; width:100%;\"></div>            <script type=\"text/javascript\">                require([\"plotly\"], function(Plotly) {                    window.PLOTLYENV=window.PLOTLYENV || {};                                    if (document.getElementById(\"753c25bd-4ba4-456a-b144-e7637b5b507a\")) {                    Plotly.newPlot(                        \"753c25bd-4ba4-456a-b144-e7637b5b507a\",                        [{\"hovertemplate\":\"group=2<br>x0=%{x}<br>x1=%{y}<extra></extra>\",\"legendgroup\":\"2\",\"marker\":{\"color\":\"#1F77B4\",\"symbol\":\"circle\"},\"mode\":\"markers\",\"name\":\"2\",\"orientation\":\"v\",\"showlegend\":true,\"x\":[-0.4087977707386017,-0.45030561089515686,-0.2115980088710785,-0.6118951439857483,-0.5844305753707886,-0.21294748783111572,-0.3309518098831177],\"xaxis\":\"x\",\"y\":[3.9500277042388916,3.9918129444122314,3.7095634937286377,4.171271324157715,4.1420416831970215,3.705085515975952,3.8451876640319824],\"yaxis\":\"y\",\"type\":\"scatter\"},{\"hovertemplate\":\"group=0<br>x0=%{x}<br>x1=%{y}<extra></extra>\",\"legendgroup\":\"0\",\"marker\":{\"color\":\"#FF7F0E\",\"symbol\":\"circle\"},\"mode\":\"markers\",\"name\":\"0\",\"orientation\":\"v\",\"showlegend\":true,\"x\":[8.75471019744873,8.71745491027832,9.316515922546387,8.79472541809082,8.513837814331055],\"xaxis\":\"x\",\"y\":[7.866652488708496,7.889986515045166,9.4690580368042,7.431832790374756,7.943614959716797],\"yaxis\":\"y\",\"type\":\"scatter\"},{\"hovertemplate\":\"group=1<br>x0=%{x}<br>x1=%{y}<extra></extra>\",\"legendgroup\":\"1\",\"marker\":{\"color\":\"#2CA02C\",\"symbol\":\"circle\"},\"mode\":\"markers\",\"name\":\"1\",\"orientation\":\"v\",\"showlegend\":true,\"x\":[6.781863212585449,5.532465934753418,6.0388875007629395,6.5158371925354,5.941372394561768,5.536155700683594,7.012421131134033,6.398261070251465,7.081732273101807,5.658182144165039],\"xaxis\":\"x\",\"y\":[1.3060969114303589,0.9241700768470764,1.3451547622680664,1.437179446220398,1.6535128355026245,0.9632944464683533,1.1072028875350952,1.572166919708252,3.176814079284668,0.830382764339447],\"yaxis\":\"y\",\"type\":\"scatter\"}],                        {\"template\":{\"data\":{\"barpolar\":[{\"marker\":{\"line\":{\"color\":\"white\",\"width\":0.5},\"pattern\":{\"fillmode\":\"overlay\",\"size\":10,\"solidity\":0.2}},\"type\":\"barpolar\"}],\"bar\":[{\"error_x\":{\"color\":\"rgb(36,36,36)\"},\"error_y\":{\"color\":\"rgb(36,36,36)\"},\"marker\":{\"line\":{\"color\":\"white\",\"width\":0.5},\"pattern\":{\"fillmode\":\"overlay\",\"size\":10,\"solidity\":0.2}},\"type\":\"bar\"}],\"carpet\":[{\"aaxis\":{\"endlinecolor\":\"rgb(36,36,36)\",\"gridcolor\":\"white\",\"linecolor\":\"white\",\"minorgridcolor\":\"white\",\"startlinecolor\":\"rgb(36,36,36)\"},\"baxis\":{\"endlinecolor\":\"rgb(36,36,36)\",\"gridcolor\":\"white\",\"linecolor\":\"white\",\"minorgridcolor\":\"white\",\"startlinecolor\":\"rgb(36,36,36)\"},\"type\":\"carpet\"}],\"choropleth\":[{\"colorbar\":{\"outlinewidth\":1,\"tickcolor\":\"rgb(36,36,36)\",\"ticks\":\"outside\"},\"type\":\"choropleth\"}],\"contourcarpet\":[{\"colorbar\":{\"outlinewidth\":1,\"tickcolor\":\"rgb(36,36,36)\",\"ticks\":\"outside\"},\"type\":\"contourcarpet\"}],\"contour\":[{\"colorbar\":{\"outlinewidth\":1,\"tickcolor\":\"rgb(36,36,36)\",\"ticks\":\"outside\"},\"colorscale\":[[0.0,\"#440154\"],[0.1111111111111111,\"#482878\"],[0.2222222222222222,\"#3e4989\"],[0.3333333333333333,\"#31688e\"],[0.4444444444444444,\"#26828e\"],[0.5555555555555556,\"#1f9e89\"],[0.6666666666666666,\"#35b779\"],[0.7777777777777778,\"#6ece58\"],[0.8888888888888888,\"#b5de2b\"],[1.0,\"#fde725\"]],\"type\":\"contour\"}],\"heatmapgl\":[{\"colorbar\":{\"outlinewidth\":1,\"tickcolor\":\"rgb(36,36,36)\",\"ticks\":\"outside\"},\"colorscale\":[[0.0,\"#440154\"],[0.1111111111111111,\"#482878\"],[0.2222222222222222,\"#3e4989\"],[0.3333333333333333,\"#31688e\"],[0.4444444444444444,\"#26828e\"],[0.5555555555555556,\"#1f9e89\"],[0.6666666666666666,\"#35b779\"],[0.7777777777777778,\"#6ece58\"],[0.8888888888888888,\"#b5de2b\"],[1.0,\"#fde725\"]],\"type\":\"heatmapgl\"}],\"heatmap\":[{\"colorbar\":{\"outlinewidth\":1,\"tickcolor\":\"rgb(36,36,36)\",\"ticks\":\"outside\"},\"colorscale\":[[0.0,\"#440154\"],[0.1111111111111111,\"#482878\"],[0.2222222222222222,\"#3e4989\"],[0.3333333333333333,\"#31688e\"],[0.4444444444444444,\"#26828e\"],[0.5555555555555556,\"#1f9e89\"],[0.6666666666666666,\"#35b779\"],[0.7777777777777778,\"#6ece58\"],[0.8888888888888888,\"#b5de2b\"],[1.0,\"#fde725\"]],\"type\":\"heatmap\"}],\"histogram2dcontour\":[{\"colorbar\":{\"outlinewidth\":1,\"tickcolor\":\"rgb(36,36,36)\",\"ticks\":\"outside\"},\"colorscale\":[[0.0,\"#440154\"],[0.1111111111111111,\"#482878\"],[0.2222222222222222,\"#3e4989\"],[0.3333333333333333,\"#31688e\"],[0.4444444444444444,\"#26828e\"],[0.5555555555555556,\"#1f9e89\"],[0.6666666666666666,\"#35b779\"],[0.7777777777777778,\"#6ece58\"],[0.8888888888888888,\"#b5de2b\"],[1.0,\"#fde725\"]],\"type\":\"histogram2dcontour\"}],\"histogram2d\":[{\"colorbar\":{\"outlinewidth\":1,\"tickcolor\":\"rgb(36,36,36)\",\"ticks\":\"outside\"},\"colorscale\":[[0.0,\"#440154\"],[0.1111111111111111,\"#482878\"],[0.2222222222222222,\"#3e4989\"],[0.3333333333333333,\"#31688e\"],[0.4444444444444444,\"#26828e\"],[0.5555555555555556,\"#1f9e89\"],[0.6666666666666666,\"#35b779\"],[0.7777777777777778,\"#6ece58\"],[0.8888888888888888,\"#b5de2b\"],[1.0,\"#fde725\"]],\"type\":\"histogram2d\"}],\"histogram\":[{\"marker\":{\"line\":{\"color\":\"white\",\"width\":0.6}},\"type\":\"histogram\"}],\"mesh3d\":[{\"colorbar\":{\"outlinewidth\":1,\"tickcolor\":\"rgb(36,36,36)\",\"ticks\":\"outside\"},\"type\":\"mesh3d\"}],\"parcoords\":[{\"line\":{\"colorbar\":{\"outlinewidth\":1,\"tickcolor\":\"rgb(36,36,36)\",\"ticks\":\"outside\"}},\"type\":\"parcoords\"}],\"pie\":[{\"automargin\":true,\"type\":\"pie\"}],\"scatter3d\":[{\"line\":{\"colorbar\":{\"outlinewidth\":1,\"tickcolor\":\"rgb(36,36,36)\",\"ticks\":\"outside\"}},\"marker\":{\"colorbar\":{\"outlinewidth\":1,\"tickcolor\":\"rgb(36,36,36)\",\"ticks\":\"outside\"}},\"type\":\"scatter3d\"}],\"scattercarpet\":[{\"marker\":{\"colorbar\":{\"outlinewidth\":1,\"tickcolor\":\"rgb(36,36,36)\",\"ticks\":\"outside\"}},\"type\":\"scattercarpet\"}],\"scattergeo\":[{\"marker\":{\"colorbar\":{\"outlinewidth\":1,\"tickcolor\":\"rgb(36,36,36)\",\"ticks\":\"outside\"}},\"type\":\"scattergeo\"}],\"scattergl\":[{\"marker\":{\"colorbar\":{\"outlinewidth\":1,\"tickcolor\":\"rgb(36,36,36)\",\"ticks\":\"outside\"}},\"type\":\"scattergl\"}],\"scattermapbox\":[{\"marker\":{\"colorbar\":{\"outlinewidth\":1,\"tickcolor\":\"rgb(36,36,36)\",\"ticks\":\"outside\"}},\"type\":\"scattermapbox\"}],\"scatterpolargl\":[{\"marker\":{\"colorbar\":{\"outlinewidth\":1,\"tickcolor\":\"rgb(36,36,36)\",\"ticks\":\"outside\"}},\"type\":\"scatterpolargl\"}],\"scatterpolar\":[{\"marker\":{\"colorbar\":{\"outlinewidth\":1,\"tickcolor\":\"rgb(36,36,36)\",\"ticks\":\"outside\"}},\"type\":\"scatterpolar\"}],\"scatter\":[{\"marker\":{\"colorbar\":{\"outlinewidth\":1,\"tickcolor\":\"rgb(36,36,36)\",\"ticks\":\"outside\"}},\"type\":\"scatter\"}],\"scatterternary\":[{\"marker\":{\"colorbar\":{\"outlinewidth\":1,\"tickcolor\":\"rgb(36,36,36)\",\"ticks\":\"outside\"}},\"type\":\"scatterternary\"}],\"surface\":[{\"colorbar\":{\"outlinewidth\":1,\"tickcolor\":\"rgb(36,36,36)\",\"ticks\":\"outside\"},\"colorscale\":[[0.0,\"#440154\"],[0.1111111111111111,\"#482878\"],[0.2222222222222222,\"#3e4989\"],[0.3333333333333333,\"#31688e\"],[0.4444444444444444,\"#26828e\"],[0.5555555555555556,\"#1f9e89\"],[0.6666666666666666,\"#35b779\"],[0.7777777777777778,\"#6ece58\"],[0.8888888888888888,\"#b5de2b\"],[1.0,\"#fde725\"]],\"type\":\"surface\"}],\"table\":[{\"cells\":{\"fill\":{\"color\":\"rgb(237,237,237)\"},\"line\":{\"color\":\"white\"}},\"header\":{\"fill\":{\"color\":\"rgb(217,217,217)\"},\"line\":{\"color\":\"white\"}},\"type\":\"table\"}]},\"layout\":{\"annotationdefaults\":{\"arrowhead\":0,\"arrowwidth\":1},\"autotypenumbers\":\"strict\",\"coloraxis\":{\"colorbar\":{\"outlinewidth\":1,\"tickcolor\":\"rgb(36,36,36)\",\"ticks\":\"outside\"}},\"colorscale\":{\"diverging\":[[0.0,\"rgb(103,0,31)\"],[0.1,\"rgb(178,24,43)\"],[0.2,\"rgb(214,96,77)\"],[0.3,\"rgb(244,165,130)\"],[0.4,\"rgb(253,219,199)\"],[0.5,\"rgb(247,247,247)\"],[0.6,\"rgb(209,229,240)\"],[0.7,\"rgb(146,197,222)\"],[0.8,\"rgb(67,147,195)\"],[0.9,\"rgb(33,102,172)\"],[1.0,\"rgb(5,48,97)\"]],\"sequential\":[[0.0,\"#440154\"],[0.1111111111111111,\"#482878\"],[0.2222222222222222,\"#3e4989\"],[0.3333333333333333,\"#31688e\"],[0.4444444444444444,\"#26828e\"],[0.5555555555555556,\"#1f9e89\"],[0.6666666666666666,\"#35b779\"],[0.7777777777777778,\"#6ece58\"],[0.8888888888888888,\"#b5de2b\"],[1.0,\"#fde725\"]],\"sequentialminus\":[[0.0,\"#440154\"],[0.1111111111111111,\"#482878\"],[0.2222222222222222,\"#3e4989\"],[0.3333333333333333,\"#31688e\"],[0.4444444444444444,\"#26828e\"],[0.5555555555555556,\"#1f9e89\"],[0.6666666666666666,\"#35b779\"],[0.7777777777777778,\"#6ece58\"],[0.8888888888888888,\"#b5de2b\"],[1.0,\"#fde725\"]]},\"colorway\":[\"#1F77B4\",\"#FF7F0E\",\"#2CA02C\",\"#D62728\",\"#9467BD\",\"#8C564B\",\"#E377C2\",\"#7F7F7F\",\"#BCBD22\",\"#17BECF\"],\"font\":{\"color\":\"rgb(36,36,36)\"},\"geo\":{\"bgcolor\":\"white\",\"lakecolor\":\"white\",\"landcolor\":\"white\",\"showlakes\":true,\"showland\":true,\"subunitcolor\":\"white\"},\"hoverlabel\":{\"align\":\"left\"},\"hovermode\":\"closest\",\"mapbox\":{\"style\":\"light\"},\"paper_bgcolor\":\"white\",\"plot_bgcolor\":\"white\",\"polar\":{\"angularaxis\":{\"gridcolor\":\"rgb(232,232,232)\",\"linecolor\":\"rgb(36,36,36)\",\"showgrid\":false,\"showline\":true,\"ticks\":\"outside\"},\"bgcolor\":\"white\",\"radialaxis\":{\"gridcolor\":\"rgb(232,232,232)\",\"linecolor\":\"rgb(36,36,36)\",\"showgrid\":false,\"showline\":true,\"ticks\":\"outside\"}},\"scene\":{\"xaxis\":{\"backgroundcolor\":\"white\",\"gridcolor\":\"rgb(232,232,232)\",\"gridwidth\":2,\"linecolor\":\"rgb(36,36,36)\",\"showbackground\":true,\"showgrid\":false,\"showline\":true,\"ticks\":\"outside\",\"zeroline\":false,\"zerolinecolor\":\"rgb(36,36,36)\"},\"yaxis\":{\"backgroundcolor\":\"white\",\"gridcolor\":\"rgb(232,232,232)\",\"gridwidth\":2,\"linecolor\":\"rgb(36,36,36)\",\"showbackground\":true,\"showgrid\":false,\"showline\":true,\"ticks\":\"outside\",\"zeroline\":false,\"zerolinecolor\":\"rgb(36,36,36)\"},\"zaxis\":{\"backgroundcolor\":\"white\",\"gridcolor\":\"rgb(232,232,232)\",\"gridwidth\":2,\"linecolor\":\"rgb(36,36,36)\",\"showbackground\":true,\"showgrid\":false,\"showline\":true,\"ticks\":\"outside\",\"zeroline\":false,\"zerolinecolor\":\"rgb(36,36,36)\"}},\"shapedefaults\":{\"fillcolor\":\"black\",\"line\":{\"width\":0},\"opacity\":0.3},\"ternary\":{\"aaxis\":{\"gridcolor\":\"rgb(232,232,232)\",\"linecolor\":\"rgb(36,36,36)\",\"showgrid\":false,\"showline\":true,\"ticks\":\"outside\"},\"baxis\":{\"gridcolor\":\"rgb(232,232,232)\",\"linecolor\":\"rgb(36,36,36)\",\"showgrid\":false,\"showline\":true,\"ticks\":\"outside\"},\"bgcolor\":\"white\",\"caxis\":{\"gridcolor\":\"rgb(232,232,232)\",\"linecolor\":\"rgb(36,36,36)\",\"showgrid\":false,\"showline\":true,\"ticks\":\"outside\"}},\"title\":{\"x\":0.05},\"xaxis\":{\"automargin\":true,\"gridcolor\":\"rgb(232,232,232)\",\"linecolor\":\"rgb(36,36,36)\",\"showgrid\":false,\"showline\":true,\"ticks\":\"outside\",\"title\":{\"standoff\":15},\"zeroline\":false,\"zerolinecolor\":\"rgb(36,36,36)\"},\"yaxis\":{\"automargin\":true,\"gridcolor\":\"rgb(232,232,232)\",\"linecolor\":\"rgb(36,36,36)\",\"showgrid\":false,\"showline\":true,\"ticks\":\"outside\",\"title\":{\"standoff\":15},\"zeroline\":false,\"zerolinecolor\":\"rgb(36,36,36)\"}}},\"xaxis\":{\"anchor\":\"y\",\"domain\":[0.0,1.0],\"title\":{\"text\":\"x0\"}},\"yaxis\":{\"anchor\":\"x\",\"domain\":[0.0,1.0],\"title\":{\"text\":\"x1\"}},\"legend\":{\"title\":{\"text\":\"group\"},\"tracegroupgap\":0},\"margin\":{\"t\":60}},                        {\"responsive\": true}                    ).then(function(){\n",
       "                            \n",
       "var gd = document.getElementById('753c25bd-4ba4-456a-b144-e7637b5b507a');\n",
       "var x = new MutationObserver(function (mutations, observer) {{\n",
       "        var display = window.getComputedStyle(gd).display;\n",
       "        if (!display || display === 'none') {{\n",
       "            console.log([gd, 'removed!']);\n",
       "            Plotly.purge(gd);\n",
       "            observer.disconnect();\n",
       "        }}\n",
       "}});\n",
       "\n",
       "// Listen for the removal of the full notebook cells\n",
       "var notebookContainer = gd.closest('#notebook-container');\n",
       "if (notebookContainer) {{\n",
       "    x.observe(notebookContainer, {childList: true});\n",
       "}}\n",
       "\n",
       "// Listen for the clearing of the current output cell\n",
       "var outputEl = gd.closest('.output');\n",
       "if (outputEl) {{\n",
       "    x.observe(outputEl, {childList: true});\n",
       "}}\n",
       "\n",
       "                        })                };                });            </script>        </div>"
      ]
     },
     "metadata": {},
     "output_type": "display_data"
    }
   ],
   "source": [
    "import plotly.express as px\n",
    "\n",
    "results['group'] = results['group'].astype(str)\n",
    "\n",
    "fig = px.scatter(results[results.proba > 0.9], x=\"x0\", y=\"x1\", color=\"group\", template=\"simple_white\")\n",
    "fig"
   ]
  },
  {
   "cell_type": "code",
   "execution_count": 38,
   "id": "e343f493",
   "metadata": {},
   "outputs": [
    {
     "data": {
      "text/html": [
       "<div>\n",
       "<style scoped>\n",
       "    .dataframe tbody tr th:only-of-type {\n",
       "        vertical-align: middle;\n",
       "    }\n",
       "\n",
       "    .dataframe tbody tr th {\n",
       "        vertical-align: top;\n",
       "    }\n",
       "\n",
       "    .dataframe thead th {\n",
       "        text-align: right;\n",
       "    }\n",
       "</style>\n",
       "<table border=\"1\" class=\"dataframe\">\n",
       "  <thead>\n",
       "    <tr style=\"text-align: right;\">\n",
       "      <th></th>\n",
       "      <th>id</th>\n",
       "      <th>group</th>\n",
       "      <th>proba</th>\n",
       "      <th>x0</th>\n",
       "      <th>x1</th>\n",
       "    </tr>\n",
       "  </thead>\n",
       "  <tbody>\n",
       "    <tr>\n",
       "      <th>8</th>\n",
       "      <td>9</td>\n",
       "      <td>0</td>\n",
       "      <td>1.000000</td>\n",
       "      <td>8.754710</td>\n",
       "      <td>7.866652</td>\n",
       "    </tr>\n",
       "    <tr>\n",
       "      <th>16</th>\n",
       "      <td>17</td>\n",
       "      <td>0</td>\n",
       "      <td>1.000000</td>\n",
       "      <td>8.717455</td>\n",
       "      <td>7.889987</td>\n",
       "    </tr>\n",
       "    <tr>\n",
       "      <th>108</th>\n",
       "      <td>109</td>\n",
       "      <td>0</td>\n",
       "      <td>1.000000</td>\n",
       "      <td>8.513838</td>\n",
       "      <td>7.943615</td>\n",
       "    </tr>\n",
       "    <tr>\n",
       "      <th>45</th>\n",
       "      <td>46</td>\n",
       "      <td>0</td>\n",
       "      <td>1.000000</td>\n",
       "      <td>9.316516</td>\n",
       "      <td>9.469058</td>\n",
       "    </tr>\n",
       "    <tr>\n",
       "      <th>46</th>\n",
       "      <td>47</td>\n",
       "      <td>0</td>\n",
       "      <td>1.000000</td>\n",
       "      <td>8.794725</td>\n",
       "      <td>7.431833</td>\n",
       "    </tr>\n",
       "    <tr>\n",
       "      <th>143</th>\n",
       "      <td>144</td>\n",
       "      <td>1</td>\n",
       "      <td>1.000000</td>\n",
       "      <td>5.658182</td>\n",
       "      <td>0.830383</td>\n",
       "    </tr>\n",
       "    <tr>\n",
       "      <th>9</th>\n",
       "      <td>10</td>\n",
       "      <td>1</td>\n",
       "      <td>1.000000</td>\n",
       "      <td>6.781863</td>\n",
       "      <td>1.306097</td>\n",
       "    </tr>\n",
       "    <tr>\n",
       "      <th>10</th>\n",
       "      <td>11</td>\n",
       "      <td>1</td>\n",
       "      <td>1.000000</td>\n",
       "      <td>5.532466</td>\n",
       "      <td>0.924170</td>\n",
       "    </tr>\n",
       "    <tr>\n",
       "      <th>127</th>\n",
       "      <td>128</td>\n",
       "      <td>1</td>\n",
       "      <td>0.960949</td>\n",
       "      <td>7.081732</td>\n",
       "      <td>3.176814</td>\n",
       "    </tr>\n",
       "    <tr>\n",
       "      <th>14</th>\n",
       "      <td>15</td>\n",
       "      <td>1</td>\n",
       "      <td>1.000000</td>\n",
       "      <td>6.038888</td>\n",
       "      <td>1.345155</td>\n",
       "    </tr>\n",
       "    <tr>\n",
       "      <th>24</th>\n",
       "      <td>25</td>\n",
       "      <td>1</td>\n",
       "      <td>0.911394</td>\n",
       "      <td>6.515837</td>\n",
       "      <td>1.437179</td>\n",
       "    </tr>\n",
       "    <tr>\n",
       "      <th>31</th>\n",
       "      <td>32</td>\n",
       "      <td>1</td>\n",
       "      <td>0.911394</td>\n",
       "      <td>5.941372</td>\n",
       "      <td>1.653513</td>\n",
       "    </tr>\n",
       "    <tr>\n",
       "      <th>106</th>\n",
       "      <td>107</td>\n",
       "      <td>1</td>\n",
       "      <td>0.939347</td>\n",
       "      <td>6.398261</td>\n",
       "      <td>1.572167</td>\n",
       "    </tr>\n",
       "    <tr>\n",
       "      <th>70</th>\n",
       "      <td>71</td>\n",
       "      <td>1</td>\n",
       "      <td>1.000000</td>\n",
       "      <td>5.536156</td>\n",
       "      <td>0.963294</td>\n",
       "    </tr>\n",
       "    <tr>\n",
       "      <th>75</th>\n",
       "      <td>76</td>\n",
       "      <td>1</td>\n",
       "      <td>0.959547</td>\n",
       "      <td>7.012421</td>\n",
       "      <td>1.107203</td>\n",
       "    </tr>\n",
       "    <tr>\n",
       "      <th>103</th>\n",
       "      <td>104</td>\n",
       "      <td>2</td>\n",
       "      <td>1.000000</td>\n",
       "      <td>-0.212947</td>\n",
       "      <td>3.705086</td>\n",
       "    </tr>\n",
       "    <tr>\n",
       "      <th>3</th>\n",
       "      <td>4</td>\n",
       "      <td>2</td>\n",
       "      <td>1.000000</td>\n",
       "      <td>-0.408798</td>\n",
       "      <td>3.950028</td>\n",
       "    </tr>\n",
       "    <tr>\n",
       "      <th>140</th>\n",
       "      <td>141</td>\n",
       "      <td>2</td>\n",
       "      <td>1.000000</td>\n",
       "      <td>-0.330952</td>\n",
       "      <td>3.845188</td>\n",
       "    </tr>\n",
       "    <tr>\n",
       "      <th>35</th>\n",
       "      <td>36</td>\n",
       "      <td>2</td>\n",
       "      <td>0.912099</td>\n",
       "      <td>-0.211598</td>\n",
       "      <td>3.709563</td>\n",
       "    </tr>\n",
       "    <tr>\n",
       "      <th>12</th>\n",
       "      <td>13</td>\n",
       "      <td>2</td>\n",
       "      <td>0.967384</td>\n",
       "      <td>-0.450306</td>\n",
       "      <td>3.991813</td>\n",
       "    </tr>\n",
       "    <tr>\n",
       "      <th>92</th>\n",
       "      <td>93</td>\n",
       "      <td>2</td>\n",
       "      <td>1.000000</td>\n",
       "      <td>-0.584431</td>\n",
       "      <td>4.142042</td>\n",
       "    </tr>\n",
       "    <tr>\n",
       "      <th>43</th>\n",
       "      <td>44</td>\n",
       "      <td>2</td>\n",
       "      <td>1.000000</td>\n",
       "      <td>-0.611895</td>\n",
       "      <td>4.171271</td>\n",
       "    </tr>\n",
       "  </tbody>\n",
       "</table>\n",
       "</div>"
      ],
      "text/plain": [
       "      id  group     proba        x0        x1\n",
       "8      9      0  1.000000  8.754710  7.866652\n",
       "16    17      0  1.000000  8.717455  7.889987\n",
       "108  109      0  1.000000  8.513838  7.943615\n",
       "45    46      0  1.000000  9.316516  9.469058\n",
       "46    47      0  1.000000  8.794725  7.431833\n",
       "143  144      1  1.000000  5.658182  0.830383\n",
       "9     10      1  1.000000  6.781863  1.306097\n",
       "10    11      1  1.000000  5.532466  0.924170\n",
       "127  128      1  0.960949  7.081732  3.176814\n",
       "14    15      1  1.000000  6.038888  1.345155\n",
       "24    25      1  0.911394  6.515837  1.437179\n",
       "31    32      1  0.911394  5.941372  1.653513\n",
       "106  107      1  0.939347  6.398261  1.572167\n",
       "70    71      1  1.000000  5.536156  0.963294\n",
       "75    76      1  0.959547  7.012421  1.107203\n",
       "103  104      2  1.000000 -0.212947  3.705086\n",
       "3      4      2  1.000000 -0.408798  3.950028\n",
       "140  141      2  1.000000 -0.330952  3.845188\n",
       "35    36      2  0.912099 -0.211598  3.709563\n",
       "12    13      2  0.967384 -0.450306  3.991813\n",
       "92    93      2  1.000000 -0.584431  4.142042\n",
       "43    44      2  1.000000 -0.611895  4.171271"
      ]
     },
     "execution_count": 38,
     "metadata": {},
     "output_type": "execute_result"
    }
   ],
   "source": [
    "results_for_plot = results[results.proba > 0.9].sort_values(['group'])\n",
    "results_for_plot"
   ]
  },
  {
   "cell_type": "code",
   "execution_count": 38,
   "id": "07e747fa",
   "metadata": {},
   "outputs": [
    {
     "data": {
      "text/plain": [
       "[9, 109, 46, 47, 17]"
      ]
     },
     "execution_count": 38,
     "metadata": {},
     "output_type": "execute_result"
    }
   ],
   "source": [
    "import matplotlib.pyplot as plt\n",
    "\n",
    "for values in results_for_plot.query('group = 0'):\n",
    "    X"
   ]
  },
  {
   "cell_type": "code",
   "execution_count": 69,
   "id": "3c8b8322",
   "metadata": {},
   "outputs": [
    {
     "data": {
      "image/png": "[encoded data removed]",
      "text/plain": [
       "<Figure size 1008x288 with 5 Axes>"
      ]
     },
     "metadata": {
      "needs_background": "light"
     },
     "output_type": "display_data"
    }
   ],
   "source": [
    "import cv2\n",
    "ids = list(results.query('group == 0').sort_values('proba', ascending=False).head()['id'].values)\n",
    "\n",
    "## TODO: realizar as transformações basicas em cada imagem\n",
    "\n",
    "f, axarr = plt.subplots(1, 5, figsize=(14, 4))\n",
    "paths = time_series[~~time_series['id'].isin(ids)]['slice_path'].values\n",
    "axarr[0].imshow(cv2.imread(paths[0]))\n",
    "axarr[0].set_axis_off()\n",
    "axarr[1].imshow(cv2.imread(paths[1]))\n",
    "axarr[1].set_axis_off()\n",
    "axarr[2].imshow(cv2.imread(paths[2]))\n",
    "axarr[2].set_axis_off()\n",
    "axarr[3].imshow(cv2.imread(paths[3]))\n",
    "axarr[3].set_axis_off()\n",
    "axarr[4].imshow(cv2.imread(paths[4]))\n",
    "axarr[4].set_axis_off()"
   ]
  },
  {
   "cell_type": "code",
   "execution_count": 70,
   "id": "3430602c",
   "metadata": {},
   "outputs": [
    {
     "data": {
      "image/png": "[encoded data removed]",
      "text/plain": [
       "<Figure size 432x1080 with 5 Axes>"
      ]
     },
     "metadata": {
      "needs_background": "light"
     },
     "output_type": "display_data"
    }
   ],
   "source": [
    "ids = list(results.query('group == 1').sort_values('proba', ascending=False).head()['id'].values)\n",
    "\n",
    "f, axarr = plt.subplots(5, 1, figsize=(6,15))\n",
    "plt.axis('off')\n",
    "\n",
    "paths = time_series[~~time_series['id'].isin(ids)]['slice_path'].values\n",
    "axarr[0].set_axis_off()\n",
    "axarr[0].imshow(cv2.imread(paths[0]))\n",
    "axarr[1].set_axis_off()\n",
    "axarr[1].imshow(cv2.imread(paths[1]))\n",
    "axarr[2].set_axis_off()\n",
    "axarr[2].imshow(cv2.imread(paths[2]))\n",
    "axarr[3].set_axis_off()\n",
    "# axarr[3].imshow(cv2.imread(paths[3]))\n",
    "axarr[4].set_axis_off()\n",
    "# axarr[4].imshow(cv2.imread(paths[4]))\n"
   ]
  },
  {
   "cell_type": "code",
   "execution_count": 66,
   "id": "10cd1dd2",
   "metadata": {},
   "outputs": [
    {
     "name": "stdout",
     "output_type": "stream",
     "text": [
      "['C:/Users/Gilberto/Desktop/Gilberto/Projetos/btseg/data/Outdir\\\\100\\\\153.png'\n",
      " 'C:/Users/Gilberto/Desktop/Gilberto/Projetos/btseg/data/Outdir\\\\137\\\\95.png'\n",
      " 'C:/Users/Gilberto/Desktop/Gilberto/Projetos/btseg/data/Outdir\\\\47\\\\154.png'\n",
      " 'C:/Users/Gilberto/Desktop/Gilberto/Projetos/btseg/data/Outdir\\\\57\\\\147.png'\n",
      " 'C:/Users/Gilberto/Desktop/Gilberto/Projetos/btseg/data/Outdir\\\\90\\\\143.png']\n"
     ]
    },
    {
     "data": {
      "image/png": "[encoded data removed]",
      "text/plain": [
       "<Figure size 1008x288 with 5 Axes>"
      ]
     },
     "metadata": {
      "needs_background": "light"
     },
     "output_type": "display_data"
    }
   ],
   "source": [
    "ids = list(results.query('group == 2').sort_values('proba', ascending=False).head()['id'].values)\n",
    "\n",
    "f, axarr = plt.subplots(1, 5, figsize=(14, 4))\n",
    "paths = time_series[~~time_series['id'].isin(ids)]['slice_path'].values\n",
    "print(paths)\n",
    "axarr[0].imshow(cv2.imread(paths[0]))\n",
    "axarr[0].set_axis_off()\n",
    "axarr[1].imshow(cv2.imread(paths[1]))\n",
    "axarr[1].set_axis_off()\n",
    "# axarr[2].imshow(cv2.imread(paths[2]))\n",
    "axarr[2].set_axis_off()\n",
    "# axarr[3].imshow(cv2.imread(paths[3]))\n",
    "axarr[3].set_axis_off()\n",
    "axarr[2].imshow(cv2.imread(paths[4]))\n",
    "axarr[4].set_axis_off()"
   ]
  }
 ],
 "metadata": {
  "kernelspec": {
   "display_name": "Python 3",
   "language": "python",
   "name": "python3"
  },
  "language_info": {
   "codemirror_mode": {
    "name": "ipython",
    "version": 3
   },
   "file_extension": ".py",
   "mimetype": "text/x-python",
   "name": "python",
   "nbconvert_exporter": "python",
   "pygments_lexer": "ipython3",
   "version": "3.8.8"
  }
 },
 "nbformat": 4,
 "nbformat_minor": 5
}
