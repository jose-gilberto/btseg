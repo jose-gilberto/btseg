{
 "cells": [
  {
   "cell_type": "code",
   "execution_count": 1,
   "id": "9327fc16",
   "metadata": {},
   "outputs": [],
   "source": [
    "import pandas as pd\n",
    "import numpy as np\n",
    "import DBCV\n",
    "from dtaidistance import dtw\n",
    "from dtaidistance import ed\n",
    "from btseg.clustering.hdbscan_clustering import HDBSCANClusterer"
   ]
  },
  {
   "cell_type": "code",
   "execution_count": 3,
   "id": "47cbd18b",
   "metadata": {},
   "outputs": [
    {
     "data": {
      "text/html": [
       "<div>\n",
       "<style scoped>\n",
       "    .dataframe tbody tr th:only-of-type {\n",
       "        vertical-align: middle;\n",
       "    }\n",
       "\n",
       "    .dataframe tbody tr th {\n",
       "        vertical-align: top;\n",
       "    }\n",
       "\n",
       "    .dataframe thead th {\n",
       "        text-align: right;\n",
       "    }\n",
       "</style>\n",
       "<table border=\"1\" class=\"dataframe\">\n",
       "  <thead>\n",
       "    <tr style=\"text-align: right;\">\n",
       "      <th></th>\n",
       "      <th>id</th>\n",
       "      <th>path</th>\n",
       "      <th>slice_path</th>\n",
       "      <th>a_0</th>\n",
       "      <th>a_1</th>\n",
       "      <th>a_2</th>\n",
       "      <th>a_3</th>\n",
       "      <th>a_4</th>\n",
       "      <th>a_5</th>\n",
       "      <th>a_6</th>\n",
       "      <th>...</th>\n",
       "      <th>a_350</th>\n",
       "      <th>a_351</th>\n",
       "      <th>a_352</th>\n",
       "      <th>a_353</th>\n",
       "      <th>a_354</th>\n",
       "      <th>a_355</th>\n",
       "      <th>a_356</th>\n",
       "      <th>a_357</th>\n",
       "      <th>a_358</th>\n",
       "      <th>a_359</th>\n",
       "    </tr>\n",
       "  </thead>\n",
       "  <tbody>\n",
       "    <tr>\n",
       "      <th>0</th>\n",
       "      <td>1</td>\n",
       "      <td>C:/Users/Gilberto/Desktop/Gilberto/Projetos/bt...</td>\n",
       "      <td>C:/Users/Gilberto/Desktop/Gilberto/Projetos/bt...</td>\n",
       "      <td>109.041277</td>\n",
       "      <td>113.159180</td>\n",
       "      <td>113.282832</td>\n",
       "      <td>108.558740</td>\n",
       "      <td>106.794195</td>\n",
       "      <td>105.076163</td>\n",
       "      <td>103.406963</td>\n",
       "      <td>...</td>\n",
       "      <td>72.532751</td>\n",
       "      <td>102.420701</td>\n",
       "      <td>99.984999</td>\n",
       "      <td>99.724621</td>\n",
       "      <td>99.503769</td>\n",
       "      <td>100.319490</td>\n",
       "      <td>102.176318</td>\n",
       "      <td>104.076895</td>\n",
       "      <td>107.004673</td>\n",
       "      <td>107.004673</td>\n",
       "    </tr>\n",
       "    <tr>\n",
       "      <th>1</th>\n",
       "      <td>2</td>\n",
       "      <td>C:/Users/Gilberto/Desktop/Gilberto/Projetos/bt...</td>\n",
       "      <td>C:/Users/Gilberto/Desktop/Gilberto/Projetos/bt...</td>\n",
       "      <td>62.072538</td>\n",
       "      <td>64.195015</td>\n",
       "      <td>65.375837</td>\n",
       "      <td>66.483081</td>\n",
       "      <td>66.753277</td>\n",
       "      <td>67.082039</td>\n",
       "      <td>67.468511</td>\n",
       "      <td>...</td>\n",
       "      <td>66.490601</td>\n",
       "      <td>66.098411</td>\n",
       "      <td>61.660360</td>\n",
       "      <td>60.530984</td>\n",
       "      <td>60.299254</td>\n",
       "      <td>60.207973</td>\n",
       "      <td>60.074953</td>\n",
       "      <td>60.033324</td>\n",
       "      <td>60.000000</td>\n",
       "      <td>61.032778</td>\n",
       "    </tr>\n",
       "    <tr>\n",
       "      <th>2</th>\n",
       "      <td>3</td>\n",
       "      <td>C:/Users/Gilberto/Desktop/Gilberto/Projetos/bt...</td>\n",
       "      <td>C:/Users/Gilberto/Desktop/Gilberto/Projetos/bt...</td>\n",
       "      <td>91.049437</td>\n",
       "      <td>90.088845</td>\n",
       "      <td>89.202018</td>\n",
       "      <td>89.274856</td>\n",
       "      <td>88.459030</td>\n",
       "      <td>87.572827</td>\n",
       "      <td>87.692645</td>\n",
       "      <td>...</td>\n",
       "      <td>92.655275</td>\n",
       "      <td>92.541882</td>\n",
       "      <td>92.347171</td>\n",
       "      <td>92.265920</td>\n",
       "      <td>92.135769</td>\n",
       "      <td>92.086915</td>\n",
       "      <td>92.048900</td>\n",
       "      <td>92.005435</td>\n",
       "      <td>92.005435</td>\n",
       "      <td>92.021737</td>\n",
       "    </tr>\n",
       "    <tr>\n",
       "      <th>3</th>\n",
       "      <td>4</td>\n",
       "      <td>C:/Users/Gilberto/Desktop/Gilberto/Projetos/bt...</td>\n",
       "      <td>C:/Users/Gilberto/Desktop/Gilberto/Projetos/bt...</td>\n",
       "      <td>3.000000</td>\n",
       "      <td>3.000000</td>\n",
       "      <td>3.000000</td>\n",
       "      <td>3.000000</td>\n",
       "      <td>7.211103</td>\n",
       "      <td>7.211103</td>\n",
       "      <td>7.211103</td>\n",
       "      <td>...</td>\n",
       "      <td>3.000000</td>\n",
       "      <td>3.000000</td>\n",
       "      <td>3.000000</td>\n",
       "      <td>3.000000</td>\n",
       "      <td>3.000000</td>\n",
       "      <td>3.000000</td>\n",
       "      <td>3.000000</td>\n",
       "      <td>3.000000</td>\n",
       "      <td>3.000000</td>\n",
       "      <td>3.000000</td>\n",
       "    </tr>\n",
       "    <tr>\n",
       "      <th>4</th>\n",
       "      <td>5</td>\n",
       "      <td>C:/Users/Gilberto/Desktop/Gilberto/Projetos/bt...</td>\n",
       "      <td>C:/Users/Gilberto/Desktop/Gilberto/Projetos/bt...</td>\n",
       "      <td>39.115214</td>\n",
       "      <td>39.204592</td>\n",
       "      <td>39.319207</td>\n",
       "      <td>39.458839</td>\n",
       "      <td>39.623226</td>\n",
       "      <td>39.812058</td>\n",
       "      <td>40.024992</td>\n",
       "      <td>...</td>\n",
       "      <td>41.593269</td>\n",
       "      <td>41.593269</td>\n",
       "      <td>40.311289</td>\n",
       "      <td>40.199502</td>\n",
       "      <td>39.115214</td>\n",
       "      <td>39.051248</td>\n",
       "      <td>39.012818</td>\n",
       "      <td>39.000000</td>\n",
       "      <td>39.012818</td>\n",
       "      <td>39.051248</td>\n",
       "    </tr>\n",
       "  </tbody>\n",
       "</table>\n",
       "<p>5 rows × 363 columns</p>\n",
       "</div>"
      ],
      "text/plain": [
       "   id                                               path  \\\n",
       "0   1  C:/Users/Gilberto/Desktop/Gilberto/Projetos/bt...   \n",
       "1   2  C:/Users/Gilberto/Desktop/Gilberto/Projetos/bt...   \n",
       "2   3  C:/Users/Gilberto/Desktop/Gilberto/Projetos/bt...   \n",
       "3   4  C:/Users/Gilberto/Desktop/Gilberto/Projetos/bt...   \n",
       "4   5  C:/Users/Gilberto/Desktop/Gilberto/Projetos/bt...   \n",
       "\n",
       "                                          slice_path         a_0         a_1  \\\n",
       "0  C:/Users/Gilberto/Desktop/Gilberto/Projetos/bt...  109.041277  113.159180   \n",
       "1  C:/Users/Gilberto/Desktop/Gilberto/Projetos/bt...   62.072538   64.195015   \n",
       "2  C:/Users/Gilberto/Desktop/Gilberto/Projetos/bt...   91.049437   90.088845   \n",
       "3  C:/Users/Gilberto/Desktop/Gilberto/Projetos/bt...    3.000000    3.000000   \n",
       "4  C:/Users/Gilberto/Desktop/Gilberto/Projetos/bt...   39.115214   39.204592   \n",
       "\n",
       "          a_2         a_3         a_4         a_5         a_6  ...      a_350  \\\n",
       "0  113.282832  108.558740  106.794195  105.076163  103.406963  ...  72.532751   \n",
       "1   65.375837   66.483081   66.753277   67.082039   67.468511  ...  66.490601   \n",
       "2   89.202018   89.274856   88.459030   87.572827   87.692645  ...  92.655275   \n",
       "3    3.000000    3.000000    7.211103    7.211103    7.211103  ...   3.000000   \n",
       "4   39.319207   39.458839   39.623226   39.812058   40.024992  ...  41.593269   \n",
       "\n",
       "        a_351      a_352      a_353      a_354       a_355       a_356  \\\n",
       "0  102.420701  99.984999  99.724621  99.503769  100.319490  102.176318   \n",
       "1   66.098411  61.660360  60.530984  60.299254   60.207973   60.074953   \n",
       "2   92.541882  92.347171  92.265920  92.135769   92.086915   92.048900   \n",
       "3    3.000000   3.000000   3.000000   3.000000    3.000000    3.000000   \n",
       "4   41.593269  40.311289  40.199502  39.115214   39.051248   39.012818   \n",
       "\n",
       "        a_357       a_358       a_359  \n",
       "0  104.076895  107.004673  107.004673  \n",
       "1   60.033324   60.000000   61.032778  \n",
       "2   92.005435   92.005435   92.021737  \n",
       "3    3.000000    3.000000    3.000000  \n",
       "4   39.000000   39.012818   39.051248  \n",
       "\n",
       "[5 rows x 363 columns]"
      ]
     },
     "execution_count": 3,
     "metadata": {},
     "output_type": "execute_result"
    }
   ],
   "source": [
    "df = pd.read_csv('time_series_1.csv')\n",
    "df.head()"
   ]
  },
  {
   "cell_type": "code",
   "execution_count": 7,
   "id": "c3cf88c7",
   "metadata": {},
   "outputs": [
    {
     "data": {
      "text/plain": [
       "150"
      ]
     },
     "execution_count": 7,
     "metadata": {},
     "output_type": "execute_result"
    }
   ],
   "source": [
    "X = df.drop(['id', 'path', 'slice_path'], axis=1).values\n",
    "len(X)"
   ]
  },
  {
   "cell_type": "code",
   "execution_count": 8,
   "id": "2e7e7db3",
   "metadata": {},
   "outputs": [
    {
     "data": {
      "text/plain": [
       "HDBSCAN(cluster_selection_method='leaf', metric='precomputed', min_samples=3)"
      ]
     },
     "execution_count": 8,
     "metadata": {},
     "output_type": "execute_result"
    }
   ],
   "source": [
    "hdbscan = HDBSCANClusterer(min_cluster_samples=5, min_samples=3, metric='dtw')\n",
    "hdbscan.model"
   ]
  },
  {
   "cell_type": "code",
   "execution_count": 9,
   "id": "94e1086b",
   "metadata": {},
   "outputs": [],
   "source": [
    "hdbscan.fit(X)"
   ]
  },
  {
   "cell_type": "code",
   "execution_count": 11,
   "id": "570cda96",
   "metadata": {},
   "outputs": [
    {
     "data": {
      "text/plain": [
       "array([0.        , 0.        , 0.        , 1.        , 0.77897737,\n",
       "       0.        , 0.        , 0.82520005, 1.        , 1.        ,\n",
       "       1.        , 0.67514087, 0.96738398, 0.        , 1.        ,\n",
       "       0.        , 1.        , 0.74385335, 0.        , 0.86149483,\n",
       "       0.77095744, 0.76685987, 0.        , 0.        , 0.91139363,\n",
       "       0.        , 0.53081882, 0.86859683, 0.79601572, 0.        ,\n",
       "       0.82741427, 0.91139363, 0.        , 0.        , 0.        ,\n",
       "       0.91209869, 0.69911481, 0.        , 0.        , 0.55067713,\n",
       "       0.        , 0.        , 0.        , 1.        , 0.77809809,\n",
       "       1.        , 1.        , 0.77996932, 0.        , 0.        ,\n",
       "       0.87712428, 0.        , 0.        , 0.7803739 , 0.        ,\n",
       "       0.        , 0.        , 0.        , 0.        , 0.7924717 ,\n",
       "       0.85125606, 0.        , 0.84669231, 0.        , 0.69530179,\n",
       "       0.        , 0.66442716, 0.        , 0.        , 0.        ,\n",
       "       1.        , 0.        , 0.        , 0.        , 0.        ,\n",
       "       0.95954676, 0.        , 0.86149483, 0.86149483, 0.        ,\n",
       "       0.        , 0.        , 0.77996932, 0.        , 0.        ,\n",
       "       0.        , 0.        , 0.        , 0.        , 0.        ,\n",
       "       0.        , 0.72371505, 1.        , 0.        , 0.        ,\n",
       "       0.73355516, 0.        , 0.88885921, 0.        , 0.        ,\n",
       "       0.        , 0.77809809, 0.        , 1.        , 0.        ,\n",
       "       0.78019492, 0.93934712, 0.87863271, 1.        , 0.70183561,\n",
       "       0.        , 0.68875289, 0.        , 0.76628064, 0.82741427,\n",
       "       0.        , 0.63014316, 0.86263792, 0.        , 0.        ,\n",
       "       0.81669407, 0.        , 0.        , 0.84310516, 0.        ,\n",
       "       0.        , 0.67028583, 0.96094881, 0.        , 0.69527361,\n",
       "       0.68875289, 0.        , 0.        , 0.        , 0.71158027,\n",
       "       0.        , 0.7253226 , 0.        , 0.        , 0.        ,\n",
       "       1.        , 0.        , 0.86149483, 1.        , 0.        ,\n",
       "       0.82741427, 0.        , 0.78921945, 0.        , 0.        ])"
      ]
     },
     "execution_count": 11,
     "metadata": {},
     "output_type": "execute_result"
    }
   ],
   "source": [
    "proba = hdbscan.model.probabilities_\n",
    "proba"
   ]
  },
  {
   "cell_type": "code",
   "execution_count": 12,
   "id": "f47e68ea",
   "metadata": {},
   "outputs": [
    {
     "data": {
      "text/plain": [
       "array([-1, -1, -1,  2,  1, -1, -1,  1,  0,  1,  1,  2,  2, -1,  1, -1,  0,\n",
       "        1, -1,  0,  1,  1, -1, -1,  1, -1,  2,  0,  0, -1,  1,  1, -1, -1,\n",
       "       -1,  2,  1, -1, -1,  2, -1, -1, -1,  2,  1,  0,  0,  1, -1, -1,  0,\n",
       "       -1, -1,  0, -1, -1, -1, -1, -1,  2,  1, -1,  1, -1,  1, -1,  2, -1,\n",
       "       -1, -1,  1, -1, -1, -1, -1,  1, -1,  0,  0, -1, -1, -1,  1, -1, -1,\n",
       "       -1, -1, -1, -1, -1, -1,  1,  2, -1, -1,  0, -1,  1, -1, -1, -1,  1,\n",
       "       -1,  2, -1,  0,  1,  1,  0,  1, -1,  1, -1,  0,  1, -1,  2,  1, -1,\n",
       "       -1,  1, -1, -1,  2, -1, -1,  1,  1, -1,  1,  1, -1, -1, -1,  1, -1,\n",
       "        1, -1, -1, -1,  2, -1,  0,  1, -1,  1, -1,  0, -1, -1],\n",
       "      dtype=int64)"
      ]
     },
     "execution_count": 12,
     "metadata": {},
     "output_type": "execute_result"
    }
   ],
   "source": [
    "out_labels = hdbscan.model.labels_\n",
    "out_labels"
   ]
  },
  {
   "cell_type": "code",
   "execution_count": 13,
   "id": "24878c82",
   "metadata": {},
   "outputs": [
    {
     "data": {
      "text/plain": [
       "(array([-1,  0,  1,  2], dtype=int64), array([81, 17, 38, 14], dtype=int64))"
      ]
     },
     "execution_count": 13,
     "metadata": {},
     "output_type": "execute_result"
    }
   ],
   "source": [
    "np.unique(out_labels, return_counts=True)"
   ]
  },
  {
   "cell_type": "code",
   "execution_count": 16,
   "id": "b83e2bfb",
   "metadata": {},
   "outputs": [
    {
     "data": {
      "text/html": [
       "<div>\n",
       "<style scoped>\n",
       "    .dataframe tbody tr th:only-of-type {\n",
       "        vertical-align: middle;\n",
       "    }\n",
       "\n",
       "    .dataframe tbody tr th {\n",
       "        vertical-align: top;\n",
       "    }\n",
       "\n",
       "    .dataframe thead th {\n",
       "        text-align: right;\n",
       "    }\n",
       "</style>\n",
       "<table border=\"1\" class=\"dataframe\">\n",
       "  <thead>\n",
       "    <tr style=\"text-align: right;\">\n",
       "      <th></th>\n",
       "      <th>id</th>\n",
       "      <th>group</th>\n",
       "      <th>proba</th>\n",
       "    </tr>\n",
       "  </thead>\n",
       "  <tbody>\n",
       "    <tr>\n",
       "      <th>0</th>\n",
       "      <td>0</td>\n",
       "      <td>-1</td>\n",
       "      <td>0.000000</td>\n",
       "    </tr>\n",
       "    <tr>\n",
       "      <th>1</th>\n",
       "      <td>1</td>\n",
       "      <td>-1</td>\n",
       "      <td>0.000000</td>\n",
       "    </tr>\n",
       "    <tr>\n",
       "      <th>2</th>\n",
       "      <td>2</td>\n",
       "      <td>-1</td>\n",
       "      <td>0.000000</td>\n",
       "    </tr>\n",
       "    <tr>\n",
       "      <th>3</th>\n",
       "      <td>3</td>\n",
       "      <td>2</td>\n",
       "      <td>1.000000</td>\n",
       "    </tr>\n",
       "    <tr>\n",
       "      <th>4</th>\n",
       "      <td>4</td>\n",
       "      <td>1</td>\n",
       "      <td>0.778977</td>\n",
       "    </tr>\n",
       "    <tr>\n",
       "      <th>...</th>\n",
       "      <td>...</td>\n",
       "      <td>...</td>\n",
       "      <td>...</td>\n",
       "    </tr>\n",
       "    <tr>\n",
       "      <th>145</th>\n",
       "      <td>145</td>\n",
       "      <td>1</td>\n",
       "      <td>0.827414</td>\n",
       "    </tr>\n",
       "    <tr>\n",
       "      <th>146</th>\n",
       "      <td>146</td>\n",
       "      <td>-1</td>\n",
       "      <td>0.000000</td>\n",
       "    </tr>\n",
       "    <tr>\n",
       "      <th>147</th>\n",
       "      <td>147</td>\n",
       "      <td>0</td>\n",
       "      <td>0.789219</td>\n",
       "    </tr>\n",
       "    <tr>\n",
       "      <th>148</th>\n",
       "      <td>148</td>\n",
       "      <td>-1</td>\n",
       "      <td>0.000000</td>\n",
       "    </tr>\n",
       "    <tr>\n",
       "      <th>149</th>\n",
       "      <td>149</td>\n",
       "      <td>-1</td>\n",
       "      <td>0.000000</td>\n",
       "    </tr>\n",
       "  </tbody>\n",
       "</table>\n",
       "<p>150 rows × 3 columns</p>\n",
       "</div>"
      ],
      "text/plain": [
       "      id  group     proba\n",
       "0      0     -1  0.000000\n",
       "1      1     -1  0.000000\n",
       "2      2     -1  0.000000\n",
       "3      3      2  1.000000\n",
       "4      4      1  0.778977\n",
       "..   ...    ...       ...\n",
       "145  145      1  0.827414\n",
       "146  146     -1  0.000000\n",
       "147  147      0  0.789219\n",
       "148  148     -1  0.000000\n",
       "149  149     -1  0.000000\n",
       "\n",
       "[150 rows x 3 columns]"
      ]
     },
     "execution_count": 16,
     "metadata": {},
     "output_type": "execute_result"
    }
   ],
   "source": [
    "result_df = pd.DataFrame({\n",
    "    'id': list(range(len(X))),\n",
    "    'group': out_labels,\n",
    "    'proba': hdbscan.model.probabilities_\n",
    "})\n",
    "result_df"
   ]
  },
  {
   "cell_type": "code",
   "execution_count": 17,
   "id": "7f64354b",
   "metadata": {},
   "outputs": [],
   "source": [
    "result_df.to_csv('result_1.csv')"
   ]
  }
 ],
 "metadata": {
  "kernelspec": {
   "display_name": "Python 3",
   "language": "python",
   "name": "python3"
  },
  "language_info": {
   "codemirror_mode": {
    "name": "ipython",
    "version": 3
   },
   "file_extension": ".py",
   "mimetype": "text/x-python",
   "name": "python",
   "nbconvert_exporter": "python",
   "pygments_lexer": "ipython3",
   "version": "3.8.8"
  }
 },
 "nbformat": 4,
 "nbformat_minor": 5
}
